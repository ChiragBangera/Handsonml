{
 "cells": [
  {
   "cell_type": "code",
   "execution_count": 2,
   "metadata": {},
   "outputs": [],
   "source": [
    "from scipy.sparse import csr_matrix\n",
    "import pandas as pd\n",
    "from collections import Counter"
   ]
  },
  {
   "cell_type": "code",
   "execution_count": 12,
   "metadata": {},
   "outputs": [],
   "source": [
    "X_train = [\n",
    "    {'apple': 2, 'banana': 1, 'orange': 5},  # Document 1\n",
    "    {'apple': 1, 'banana': 12, 'grape': 11},   # Document 2\n",
    "    {'banana': 2, 'grape': 2, 'orange': 2}   # Document 3\n",
    "]"
   ]
  },
  {
   "cell_type": "code",
   "execution_count": 13,
   "metadata": {},
   "outputs": [],
   "source": [
    "vocabulary_size = 10"
   ]
  },
  {
   "cell_type": "code",
   "execution_count": 15,
   "metadata": {},
   "outputs": [
    {
     "name": "stdout",
     "output_type": "stream",
     "text": [
      "Counter({'apple': 2})\n",
      "Counter({'apple': 2, 'banana': 1})\n",
      "Counter({'orange': 5, 'apple': 2, 'banana': 1})\n",
      "Counter({'orange': 5, 'apple': 3, 'banana': 1})\n",
      "Counter({'banana': 13, 'orange': 5, 'apple': 3})\n",
      "Counter({'banana': 13, 'grape': 11, 'orange': 5, 'apple': 3})\n",
      "Counter({'banana': 15, 'grape': 11, 'orange': 5, 'apple': 3})\n",
      "Counter({'banana': 15, 'grape': 13, 'orange': 5, 'apple': 3})\n",
      "Counter({'banana': 15, 'grape': 13, 'orange': 7, 'apple': 3})\n"
     ]
    }
   ],
   "source": [
    "total_counter = Counter()\n",
    "for word_count in X_train:\n",
    "    for word, count in word_count.items():\n",
    "        total_counter[word] += count\n",
    "        print(total_counter)"
   ]
  },
  {
   "cell_type": "code",
   "execution_count": 17,
   "metadata": {},
   "outputs": [],
   "source": [
    "comman = total_counter.most_common()"
   ]
  },
  {
   "cell_type": "code",
   "execution_count": 21,
   "metadata": {},
   "outputs": [],
   "source": [
    "top_vocabs = {word: index + 1 for index, (word, count) in enumerate(comman)}"
   ]
  },
  {
   "cell_type": "code",
   "execution_count": 23,
   "metadata": {},
   "outputs": [
    {
     "name": "stdout",
     "output_type": "stream",
     "text": [
      "[0, 0, 0] [4, 1, 3] [2, 1, 5]\n",
      "[0, 0, 0, 1, 1, 1] [4, 1, 3, 4, 1, 2] [2, 1, 5, 1, 12, 11]\n",
      "[0, 0, 0, 1, 1, 1, 2, 2, 2] [4, 1, 3, 4, 1, 2, 1, 2, 3] [2, 1, 5, 1, 12, 11, 2, 2, 2]\n"
     ]
    }
   ],
   "source": [
    "rows = []\n",
    "cols = []\n",
    "data = []\n",
    "\n",
    "for row, word_count_ in enumerate(X_train):\n",
    "    for word, count in word_count_.items():\n",
    "        rows.append(row)\n",
    "        cols.append(top_vocabs.get(word, 0))\n",
    "        data.append(count)\n",
    "    print(rows, cols, data)"
   ]
  },
  {
   "cell_type": "code",
   "execution_count": 27,
   "metadata": {},
   "outputs": [
    {
     "data": {
      "text/plain": [
       "<3x11 sparse matrix of type '<class 'numpy.intc'>'\n",
       "\twith 9 stored elements in Compressed Sparse Row format>"
      ]
     },
     "execution_count": 27,
     "metadata": {},
     "output_type": "execute_result"
    }
   ],
   "source": [
    "csr_matrix((data, (rows, cols)), shape=(len(X_train), vocabulary_size + 1))"
   ]
  },
  {
   "cell_type": "code",
   "execution_count": null,
   "metadata": {},
   "outputs": [],
   "source": []
  }
 ],
 "metadata": {
  "kernelspec": {
   "display_name": "islp",
   "language": "python",
   "name": "python3"
  },
  "language_info": {
   "codemirror_mode": {
    "name": "ipython",
    "version": 3
   },
   "file_extension": ".py",
   "mimetype": "text/x-python",
   "name": "python",
   "nbconvert_exporter": "python",
   "pygments_lexer": "ipython3",
   "version": "3.12.4"
  }
 },
 "nbformat": 4,
 "nbformat_minor": 2
}
