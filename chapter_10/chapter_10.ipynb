{
 "cells": [
  {
   "cell_type": "code",
   "execution_count": 1,
   "metadata": {},
   "outputs": [],
   "source": [
    "import numpy as np\n",
    "from sklearn.datasets import load_iris\n",
    "from sklearn.linear_model import Perceptron\n",
    "\n",
    "from sklearn.datasets import fetch_california_housing\n",
    "from sklearn.metrics import root_mean_squared_error, log_loss\n",
    "from sklearn.model_selection import train_test_split\n",
    "from sklearn.neural_network import MLPRegressor, MLPClassifier\n",
    "from sklearn.pipeline import  make_pipeline\n",
    "from sklearn.preprocessing import StandardScaler\n",
    "import pandas as pd\n",
    "import matplotlib.pyplot as plt \n",
    "import tensorflow as tf\n",
    "\n",
    "from pathlib import Path\n",
    "from time import strftime"
   ]
  },
  {
   "cell_type": "code",
   "execution_count": 2,
   "metadata": {},
   "outputs": [],
   "source": [
    "iris = load_iris(as_frame=True)\n",
    "X = iris.data[['petal length (cm)', 'petal width (cm)']].values\n",
    "y = (iris.target == 0) # setosa\n",
    "\n",
    "per_clf = Perceptron(random_state=42)\n",
    "per_clf.fit(X, y)\n",
    "\n",
    "X_new = [[2, 0.5], [3, 1]]\n",
    "y_pred = per_clf.predict(X_new)"
   ]
  },
  {
   "cell_type": "code",
   "execution_count": 2,
   "metadata": {},
   "outputs": [
    {
     "name": "stdout",
     "output_type": "stream",
     "text": [
      "0.5053326657968588\n"
     ]
    }
   ],
   "source": [
    "# sklearn implementaion\n",
    "housing = fetch_california_housing()\n",
    "X_train_full, X_test, y_train_full, y_test = train_test_split(housing.data, housing.target, random_state=42)\n",
    "X_train, X_valid, y_train, y_valid = train_test_split(X_train_full, y_train_full, random_state=42)\n",
    "\n",
    "mlp_reg = MLPRegressor(hidden_layer_sizes=[50,50,50], random_state=42) # three hidden layers each\n",
    "pipeline = make_pipeline(StandardScaler(), mlp_reg)\n",
    "pipeline.fit(X_train, y_train)\n",
    "y_pred = pipeline.predict(X_valid)\n",
    "\n",
    "rmse = root_mean_squared_error(y_valid, y_pred)\n",
    "print(rmse)"
   ]
  },
  {
   "cell_type": "code",
   "execution_count": 4,
   "metadata": {},
   "outputs": [
    {
     "name": "stdout",
     "output_type": "stream",
     "text": [
      "Iteration 1, loss = 0.64878217\n",
      "Iteration 2, loss = 0.62521621\n",
      "Iteration 3, loss = 0.60262438\n",
      "Iteration 4, loss = 0.58093986\n",
      "Iteration 5, loss = 0.56038341\n",
      "Iteration 6, loss = 0.54040324\n",
      "Iteration 7, loss = 0.52162517\n",
      "Iteration 8, loss = 0.50348359\n",
      "Iteration 9, loss = 0.48568728\n",
      "Iteration 10, loss = 0.46896736\n",
      "Iteration 11, loss = 0.45338472\n",
      "Iteration 12, loss = 0.43805657\n",
      "Iteration 13, loss = 0.42288916\n",
      "Iteration 14, loss = 0.40798801\n",
      "Iteration 15, loss = 0.39358182\n",
      "Iteration 16, loss = 0.37943181\n",
      "Iteration 17, loss = 0.36542432\n",
      "Iteration 18, loss = 0.35151472\n",
      "Iteration 19, loss = 0.33758809\n",
      "Iteration 20, loss = 0.32380489\n",
      "Iteration 21, loss = 0.31028353\n",
      "Iteration 22, loss = 0.29702492\n",
      "Iteration 23, loss = 0.28403963\n",
      "Iteration 24, loss = 0.27139038\n",
      "Iteration 25, loss = 0.25929616\n",
      "Iteration 26, loss = 0.24771068\n",
      "Iteration 27, loss = 0.23648726\n",
      "Iteration 28, loss = 0.22565096\n",
      "Iteration 29, loss = 0.21528325\n",
      "Iteration 30, loss = 0.20519848\n",
      "Iteration 31, loss = 0.19537750\n",
      "Iteration 32, loss = 0.18584385\n",
      "Iteration 33, loss = 0.17662578\n",
      "Iteration 34, loss = 0.16772675\n",
      "Iteration 35, loss = 0.15916960\n",
      "Iteration 36, loss = 0.15094603\n",
      "Iteration 37, loss = 0.14304146\n",
      "Iteration 38, loss = 0.13545080\n",
      "Iteration 39, loss = 0.12817956\n",
      "Iteration 40, loss = 0.12121585\n",
      "Iteration 41, loss = 0.11455117\n",
      "Iteration 42, loss = 0.10816571\n",
      "Iteration 43, loss = 0.10209302\n",
      "Iteration 44, loss = 0.09631552\n",
      "Iteration 45, loss = 0.09082857\n",
      "Iteration 46, loss = 0.08563269\n",
      "Iteration 47, loss = 0.08076236\n",
      "Iteration 48, loss = 0.07615101\n",
      "Iteration 49, loss = 0.07185593\n",
      "Iteration 50, loss = 0.06782407\n",
      "Iteration 51, loss = 0.06399942\n",
      "Iteration 52, loss = 0.06035053\n",
      "Iteration 53, loss = 0.05690233\n",
      "Iteration 54, loss = 0.05365487\n",
      "Iteration 55, loss = 0.05060737\n",
      "Iteration 56, loss = 0.04776383\n",
      "Iteration 57, loss = 0.04510079\n",
      "Iteration 58, loss = 0.04260942\n",
      "Iteration 59, loss = 0.04026994\n",
      "Iteration 60, loss = 0.03807140\n",
      "Iteration 61, loss = 0.03600469\n",
      "Iteration 62, loss = 0.03406839\n",
      "Iteration 63, loss = 0.03225248\n",
      "Iteration 64, loss = 0.03054400\n",
      "Iteration 65, loss = 0.02894582\n",
      "Iteration 66, loss = 0.02745046\n",
      "Iteration 67, loss = 0.02604975\n",
      "Iteration 68, loss = 0.02474076\n",
      "Iteration 69, loss = 0.02351462\n",
      "Iteration 70, loss = 0.02236228\n",
      "Iteration 71, loss = 0.02127968\n",
      "Iteration 72, loss = 0.02026238\n",
      "Iteration 73, loss = 0.01930657\n",
      "Iteration 74, loss = 0.01840961\n",
      "Iteration 75, loss = 0.01756686\n",
      "Iteration 76, loss = 0.01677460\n",
      "Iteration 77, loss = 0.01603160\n",
      "Iteration 78, loss = 0.01533501\n",
      "Iteration 79, loss = 0.01467980\n",
      "Iteration 80, loss = 0.01406309\n",
      "Iteration 81, loss = 0.01348226\n",
      "Iteration 82, loss = 0.01293512\n",
      "Iteration 83, loss = 0.01241946\n",
      "Iteration 84, loss = 0.01193410\n",
      "Iteration 85, loss = 0.01147773\n",
      "Iteration 86, loss = 0.01104837\n",
      "Iteration 87, loss = 0.01064489\n",
      "Iteration 88, loss = 0.01026357\n",
      "Iteration 89, loss = 0.00990367\n",
      "Iteration 90, loss = 0.00956217\n",
      "Iteration 91, loss = 0.00923869\n",
      "Iteration 92, loss = 0.00893216\n",
      "Iteration 93, loss = 0.00864049\n",
      "Iteration 94, loss = 0.00836270\n",
      "Iteration 95, loss = 0.00809806\n",
      "Iteration 96, loss = 0.00784600\n",
      "Iteration 97, loss = 0.00760568\n",
      "Iteration 98, loss = 0.00737664\n",
      "Iteration 99, loss = 0.00715868\n",
      "Iteration 100, loss = 0.00695185\n",
      "Iteration 101, loss = 0.00675427\n",
      "Iteration 102, loss = 0.00656525\n",
      "Iteration 103, loss = 0.00638492\n",
      "Iteration 104, loss = 0.00621296\n",
      "Iteration 105, loss = 0.00604875\n",
      "Iteration 106, loss = 0.00589154\n",
      "Iteration 107, loss = 0.00574094\n",
      "Iteration 108, loss = 0.00559646\n",
      "Iteration 109, loss = 0.00545794\n",
      "Iteration 110, loss = 0.00532467\n",
      "Iteration 111, loss = 0.00519635\n",
      "Iteration 112, loss = 0.00507275\n",
      "Iteration 113, loss = 0.00495364\n",
      "Iteration 114, loss = 0.00483890\n",
      "Iteration 115, loss = 0.00472843\n",
      "Iteration 116, loss = 0.00462197\n",
      "Iteration 117, loss = 0.00451937\n",
      "Iteration 118, loss = 0.00442046\n",
      "Iteration 119, loss = 0.00432499\n",
      "Iteration 120, loss = 0.00423298\n",
      "Iteration 121, loss = 0.00414394\n",
      "Iteration 122, loss = 0.00405785\n",
      "Iteration 123, loss = 0.00397460\n",
      "Iteration 124, loss = 0.00389385\n",
      "Iteration 125, loss = 0.00381563\n",
      "Iteration 126, loss = 0.00373995\n",
      "Iteration 127, loss = 0.00366653\n",
      "Iteration 128, loss = 0.00359525\n",
      "Training loss did not improve more than tol=0.000100 for 10 consecutive epochs. Stopping.\n",
      "0.0036475436091163273\n"
     ]
    }
   ],
   "source": [
    "iris = load_iris(as_frame=True)\n",
    "X = iris.data[['petal width (cm)', 'petal length (cm)']].values\n",
    "y = (iris.target == 0)\n",
    "X_train_full, X_test, y_train_full, y_test = train_test_split(X, y, random_state=42)\n",
    "X_train, X_valid, y_train, y_valid = train_test_split(X_train_full, y_train_full, random_state=42)\n",
    "\n",
    "mlp_clf = MLPClassifier(hidden_layer_sizes=[50,50,50], random_state=42, verbose=True)\n",
    "pipeline = make_pipeline(StandardScaler(), mlp_clf)\n",
    "pipeline.fit(X_train, y_train)\n",
    "y_pred = pipeline.predict_proba(X_valid)\n",
    "x_entropy = log_loss(y_valid, y_pred)\n",
    "print(x_entropy)\n"
   ]
  },
  {
   "cell_type": "code",
   "execution_count": 2,
   "metadata": {},
   "outputs": [],
   "source": [
    "# implementing MLPs with Keras\n",
    "# Building an imake classifier using the sequential API\n",
    "\n",
    "fashion_mnist = tf.keras.datasets.fashion_mnist.load_data()\n",
    "(X_train_full, y_train_full),(X_test, y_test) = fashion_mnist\n",
    "X_train, y_train = X_train_full[:-5000], y_train_full[:-5000]\n",
    "X_valid, y_valid = X_train_full[-5000:], y_train_full[-5000:]"
   ]
  },
  {
   "cell_type": "code",
   "execution_count": 3,
   "metadata": {},
   "outputs": [
    {
     "data": {
      "text/plain": [
       "'Ankle boot'"
      ]
     },
     "execution_count": 3,
     "metadata": {},
     "output_type": "execute_result"
    }
   ],
   "source": [
    "# since pixel intensities are in 255 scale scale it down dividing by 255\n",
    "\n",
    "X_train, X_test, X_valid = X_train/255, X_test/255, X_valid/255\n",
    "class_names = [\"T-shirt/top\", \"Trouser\", \"Pullover\", \"Dress\", \"Coat\",\n",
    "\"Sandal\", \"Shirt\", \"Sneaker\", \"Bag\", \"Ankle boot\"]\n",
    "class_names[y_train[0]]"
   ]
  },
  {
   "cell_type": "code",
   "execution_count": 4,
   "metadata": {},
   "outputs": [],
   "source": [
    "tf.random.set_seed(42)\n",
    "model = tf.keras.Sequential()\n",
    "model.add(tf.keras.layers.Input(shape=[28, 28]))\n",
    "model.add(tf.keras.layers.Flatten())\n",
    "model.add(tf.keras.layers.Dense(300, activation=\"relu\"))\n",
    "model.add(tf.keras.layers.Dense(100, activation=\"relu\"))\n",
    "model.add(tf.keras.layers.Dense(10, activation=\"softmax\"))"
   ]
  },
  {
   "cell_type": "code",
   "execution_count": 14,
   "metadata": {},
   "outputs": [],
   "source": [
    "model = tf.keras.Sequential([\n",
    "    tf.keras.layers.Input(shape=[28,28]),\n",
    "    tf.keras.layers.Flatten(), # input layer \n",
    "    tf.keras.layers.Dense(300, activation=\"relu\"), # hidden layer\n",
    "    tf.keras.layers.Dense(100, activation=\"relu\"), # hidden layer\n",
    "    tf.keras.layers.Dense(10, activation=\"softmax\") #output layer\n",
    "])"
   ]
  },
  {
   "cell_type": "code",
   "execution_count": 15,
   "metadata": {},
   "outputs": [
    {
     "data": {
      "text/html": [
       "<pre style=\"white-space:pre;overflow-x:auto;line-height:normal;font-family:Menlo,'DejaVu Sans Mono',consolas,'Courier New',monospace\"><span style=\"font-weight: bold\">Model: \"sequential_3\"</span>\n",
       "</pre>\n"
      ],
      "text/plain": [
       "\u001b[1mModel: \"sequential_3\"\u001b[0m\n"
      ]
     },
     "metadata": {},
     "output_type": "display_data"
    },
    {
     "data": {
      "text/html": [
       "<pre style=\"white-space:pre;overflow-x:auto;line-height:normal;font-family:Menlo,'DejaVu Sans Mono',consolas,'Courier New',monospace\">┏━━━━━━━━━━━━━━━━━━━━━━━━━━━━━━━━━┳━━━━━━━━━━━━━━━━━━━━━━━━┳━━━━━━━━━━━━━━━┓\n",
       "┃<span style=\"font-weight: bold\"> Layer (type)                    </span>┃<span style=\"font-weight: bold\"> Output Shape           </span>┃<span style=\"font-weight: bold\">       Param # </span>┃\n",
       "┡━━━━━━━━━━━━━━━━━━━━━━━━━━━━━━━━━╇━━━━━━━━━━━━━━━━━━━━━━━━╇━━━━━━━━━━━━━━━┩\n",
       "│ flatten_3 (<span style=\"color: #0087ff; text-decoration-color: #0087ff\">Flatten</span>)             │ (<span style=\"color: #00d7ff; text-decoration-color: #00d7ff\">None</span>, <span style=\"color: #00af00; text-decoration-color: #00af00\">784</span>)            │             <span style=\"color: #00af00; text-decoration-color: #00af00\">0</span> │\n",
       "├─────────────────────────────────┼────────────────────────┼───────────────┤\n",
       "│ dense_9 (<span style=\"color: #0087ff; text-decoration-color: #0087ff\">Dense</span>)                 │ (<span style=\"color: #00d7ff; text-decoration-color: #00d7ff\">None</span>, <span style=\"color: #00af00; text-decoration-color: #00af00\">300</span>)            │       <span style=\"color: #00af00; text-decoration-color: #00af00\">235,500</span> │\n",
       "├─────────────────────────────────┼────────────────────────┼───────────────┤\n",
       "│ dense_10 (<span style=\"color: #0087ff; text-decoration-color: #0087ff\">Dense</span>)                │ (<span style=\"color: #00d7ff; text-decoration-color: #00d7ff\">None</span>, <span style=\"color: #00af00; text-decoration-color: #00af00\">100</span>)            │        <span style=\"color: #00af00; text-decoration-color: #00af00\">30,100</span> │\n",
       "├─────────────────────────────────┼────────────────────────┼───────────────┤\n",
       "│ dense_11 (<span style=\"color: #0087ff; text-decoration-color: #0087ff\">Dense</span>)                │ (<span style=\"color: #00d7ff; text-decoration-color: #00d7ff\">None</span>, <span style=\"color: #00af00; text-decoration-color: #00af00\">10</span>)             │         <span style=\"color: #00af00; text-decoration-color: #00af00\">1,010</span> │\n",
       "└─────────────────────────────────┴────────────────────────┴───────────────┘\n",
       "</pre>\n"
      ],
      "text/plain": [
       "┏━━━━━━━━━━━━━━━━━━━━━━━━━━━━━━━━━┳━━━━━━━━━━━━━━━━━━━━━━━━┳━━━━━━━━━━━━━━━┓\n",
       "┃\u001b[1m \u001b[0m\u001b[1mLayer (type)                   \u001b[0m\u001b[1m \u001b[0m┃\u001b[1m \u001b[0m\u001b[1mOutput Shape          \u001b[0m\u001b[1m \u001b[0m┃\u001b[1m \u001b[0m\u001b[1m      Param #\u001b[0m\u001b[1m \u001b[0m┃\n",
       "┡━━━━━━━━━━━━━━━━━━━━━━━━━━━━━━━━━╇━━━━━━━━━━━━━━━━━━━━━━━━╇━━━━━━━━━━━━━━━┩\n",
       "│ flatten_3 (\u001b[38;5;33mFlatten\u001b[0m)             │ (\u001b[38;5;45mNone\u001b[0m, \u001b[38;5;34m784\u001b[0m)            │             \u001b[38;5;34m0\u001b[0m │\n",
       "├─────────────────────────────────┼────────────────────────┼───────────────┤\n",
       "│ dense_9 (\u001b[38;5;33mDense\u001b[0m)                 │ (\u001b[38;5;45mNone\u001b[0m, \u001b[38;5;34m300\u001b[0m)            │       \u001b[38;5;34m235,500\u001b[0m │\n",
       "├─────────────────────────────────┼────────────────────────┼───────────────┤\n",
       "│ dense_10 (\u001b[38;5;33mDense\u001b[0m)                │ (\u001b[38;5;45mNone\u001b[0m, \u001b[38;5;34m100\u001b[0m)            │        \u001b[38;5;34m30,100\u001b[0m │\n",
       "├─────────────────────────────────┼────────────────────────┼───────────────┤\n",
       "│ dense_11 (\u001b[38;5;33mDense\u001b[0m)                │ (\u001b[38;5;45mNone\u001b[0m, \u001b[38;5;34m10\u001b[0m)             │         \u001b[38;5;34m1,010\u001b[0m │\n",
       "└─────────────────────────────────┴────────────────────────┴───────────────┘\n"
      ]
     },
     "metadata": {},
     "output_type": "display_data"
    },
    {
     "data": {
      "text/html": [
       "<pre style=\"white-space:pre;overflow-x:auto;line-height:normal;font-family:Menlo,'DejaVu Sans Mono',consolas,'Courier New',monospace\"><span style=\"font-weight: bold\"> Total params: </span><span style=\"color: #00af00; text-decoration-color: #00af00\">266,610</span> (1.02 MB)\n",
       "</pre>\n"
      ],
      "text/plain": [
       "\u001b[1m Total params: \u001b[0m\u001b[38;5;34m266,610\u001b[0m (1.02 MB)\n"
      ]
     },
     "metadata": {},
     "output_type": "display_data"
    },
    {
     "data": {
      "text/html": [
       "<pre style=\"white-space:pre;overflow-x:auto;line-height:normal;font-family:Menlo,'DejaVu Sans Mono',consolas,'Courier New',monospace\"><span style=\"font-weight: bold\"> Trainable params: </span><span style=\"color: #00af00; text-decoration-color: #00af00\">266,610</span> (1.02 MB)\n",
       "</pre>\n"
      ],
      "text/plain": [
       "\u001b[1m Trainable params: \u001b[0m\u001b[38;5;34m266,610\u001b[0m (1.02 MB)\n"
      ]
     },
     "metadata": {},
     "output_type": "display_data"
    },
    {
     "data": {
      "text/html": [
       "<pre style=\"white-space:pre;overflow-x:auto;line-height:normal;font-family:Menlo,'DejaVu Sans Mono',consolas,'Courier New',monospace\"><span style=\"font-weight: bold\"> Non-trainable params: </span><span style=\"color: #00af00; text-decoration-color: #00af00\">0</span> (0.00 B)\n",
       "</pre>\n"
      ],
      "text/plain": [
       "\u001b[1m Non-trainable params: \u001b[0m\u001b[38;5;34m0\u001b[0m (0.00 B)\n"
      ]
     },
     "metadata": {},
     "output_type": "display_data"
    }
   ],
   "source": [
    "model.summary()"
   ]
  },
  {
   "cell_type": "code",
   "execution_count": 17,
   "metadata": {},
   "outputs": [
    {
     "data": {
      "text/plain": [
       "[<Flatten name=flatten_3, built=True>,\n",
       " <Dense name=dense_9, built=True>,\n",
       " <Dense name=dense_10, built=True>,\n",
       " <Dense name=dense_11, built=True>]"
      ]
     },
     "execution_count": 17,
     "metadata": {},
     "output_type": "execute_result"
    }
   ],
   "source": [
    "model.layers"
   ]
  },
  {
   "cell_type": "code",
   "execution_count": 18,
   "metadata": {},
   "outputs": [
    {
     "data": {
      "text/plain": [
       "'dense_9'"
      ]
     },
     "execution_count": 18,
     "metadata": {},
     "output_type": "execute_result"
    }
   ],
   "source": [
    "hidden1 = model.layers[1]\n",
    "hidden1.name"
   ]
  },
  {
   "cell_type": "code",
   "execution_count": 19,
   "metadata": {},
   "outputs": [
    {
     "data": {
      "text/plain": [
       "True"
      ]
     },
     "execution_count": 19,
     "metadata": {},
     "output_type": "execute_result"
    }
   ],
   "source": [
    "model.get_layer('dense_9') is hidden1"
   ]
  },
  {
   "cell_type": "code",
   "execution_count": 21,
   "metadata": {},
   "outputs": [
    {
     "data": {
      "text/plain": [
       "(784, 300)"
      ]
     },
     "execution_count": 21,
     "metadata": {},
     "output_type": "execute_result"
    }
   ],
   "source": [
    "weights, biases = hidden1.get_weights()\n",
    "weights.shape"
   ]
  },
  {
   "cell_type": "code",
   "execution_count": 22,
   "metadata": {},
   "outputs": [
    {
     "data": {
      "text/plain": [
       "(300,)"
      ]
     },
     "execution_count": 22,
     "metadata": {},
     "output_type": "execute_result"
    }
   ],
   "source": [
    "biases.shape"
   ]
  },
  {
   "cell_type": "code",
   "execution_count": 24,
   "metadata": {},
   "outputs": [],
   "source": [
    "# after a model is created, you must call its compile() to specify the loss\n",
    "# function and the optimizer to use\n",
    "\n",
    "model.compile(loss=tf.keras.losses.sparse_categorical_crossentropy,\n",
    "              optimizer = tf.keras.optimizers.SGD(), \n",
    "              metrics = [tf.keras.metrics.sparse_categorical_accuracy])"
   ]
  },
  {
   "cell_type": "code",
   "execution_count": 32,
   "metadata": {},
   "outputs": [
    {
     "name": "stdout",
     "output_type": "stream",
     "text": [
      "Epoch 1/30\n",
      "\u001b[1m1719/1719\u001b[0m \u001b[32m━━━━━━━━━━━━━━━━━━━━\u001b[0m\u001b[37m\u001b[0m \u001b[1m1s\u001b[0m 572us/step - loss: 0.2197 - sparse_categorical_accuracy: 0.9223 - val_loss: 0.3357 - val_sparse_categorical_accuracy: 0.8808\n",
      "Epoch 2/30\n",
      "\u001b[1m1719/1719\u001b[0m \u001b[32m━━━━━━━━━━━━━━━━━━━━\u001b[0m\u001b[37m\u001b[0m \u001b[1m1s\u001b[0m 578us/step - loss: 0.2160 - sparse_categorical_accuracy: 0.9242 - val_loss: 0.3369 - val_sparse_categorical_accuracy: 0.8804\n",
      "Epoch 3/30\n",
      "\u001b[1m1719/1719\u001b[0m \u001b[32m━━━━━━━━━━━━━━━━━━━━\u001b[0m\u001b[37m\u001b[0m \u001b[1m1s\u001b[0m 587us/step - loss: 0.2122 - sparse_categorical_accuracy: 0.9260 - val_loss: 0.3377 - val_sparse_categorical_accuracy: 0.8792\n",
      "Epoch 4/30\n",
      "\u001b[1m1719/1719\u001b[0m \u001b[32m━━━━━━━━━━━━━━━━━━━━\u001b[0m\u001b[37m\u001b[0m \u001b[1m1s\u001b[0m 583us/step - loss: 0.2086 - sparse_categorical_accuracy: 0.9275 - val_loss: 0.3390 - val_sparse_categorical_accuracy: 0.8790\n",
      "Epoch 5/30\n",
      "\u001b[1m1719/1719\u001b[0m \u001b[32m━━━━━━━━━━━━━━━━━━━━\u001b[0m\u001b[37m\u001b[0m \u001b[1m1s\u001b[0m 567us/step - loss: 0.2051 - sparse_categorical_accuracy: 0.9289 - val_loss: 0.3381 - val_sparse_categorical_accuracy: 0.8810\n",
      "Epoch 6/30\n",
      "\u001b[1m1719/1719\u001b[0m \u001b[32m━━━━━━━━━━━━━━━━━━━━\u001b[0m\u001b[37m\u001b[0m \u001b[1m1s\u001b[0m 563us/step - loss: 0.2016 - sparse_categorical_accuracy: 0.9295 - val_loss: 0.3382 - val_sparse_categorical_accuracy: 0.8806\n",
      "Epoch 7/30\n",
      "\u001b[1m1719/1719\u001b[0m \u001b[32m━━━━━━━━━━━━━━━━━━━━\u001b[0m\u001b[37m\u001b[0m \u001b[1m1s\u001b[0m 592us/step - loss: 0.1981 - sparse_categorical_accuracy: 0.9309 - val_loss: 0.3402 - val_sparse_categorical_accuracy: 0.8798\n",
      "Epoch 8/30\n",
      "\u001b[1m1719/1719\u001b[0m \u001b[32m━━━━━━━━━━━━━━━━━━━━\u001b[0m\u001b[37m\u001b[0m \u001b[1m1s\u001b[0m 580us/step - loss: 0.1950 - sparse_categorical_accuracy: 0.9323 - val_loss: 0.3394 - val_sparse_categorical_accuracy: 0.8798\n",
      "Epoch 9/30\n",
      "\u001b[1m1719/1719\u001b[0m \u001b[32m━━━━━━━━━━━━━━━━━━━━\u001b[0m\u001b[37m\u001b[0m \u001b[1m1s\u001b[0m 575us/step - loss: 0.1917 - sparse_categorical_accuracy: 0.9337 - val_loss: 0.3406 - val_sparse_categorical_accuracy: 0.8794\n",
      "Epoch 10/30\n",
      "\u001b[1m1719/1719\u001b[0m \u001b[32m━━━━━━━━━━━━━━━━━━━━\u001b[0m\u001b[37m\u001b[0m \u001b[1m1s\u001b[0m 578us/step - loss: 0.1884 - sparse_categorical_accuracy: 0.9349 - val_loss: 0.3413 - val_sparse_categorical_accuracy: 0.8798\n",
      "Epoch 11/30\n",
      "\u001b[1m1719/1719\u001b[0m \u001b[32m━━━━━━━━━━━━━━━━━━━━\u001b[0m\u001b[37m\u001b[0m \u001b[1m1s\u001b[0m 573us/step - loss: 0.1851 - sparse_categorical_accuracy: 0.9361 - val_loss: 0.3408 - val_sparse_categorical_accuracy: 0.8818\n",
      "Epoch 12/30\n",
      "\u001b[1m1719/1719\u001b[0m \u001b[32m━━━━━━━━━━━━━━━━━━━━\u001b[0m\u001b[37m\u001b[0m \u001b[1m1s\u001b[0m 591us/step - loss: 0.1820 - sparse_categorical_accuracy: 0.9377 - val_loss: 0.3417 - val_sparse_categorical_accuracy: 0.8816\n",
      "Epoch 13/30\n",
      "\u001b[1m1719/1719\u001b[0m \u001b[32m━━━━━━━━━━━━━━━━━━━━\u001b[0m\u001b[37m\u001b[0m \u001b[1m1s\u001b[0m 592us/step - loss: 0.1789 - sparse_categorical_accuracy: 0.9387 - val_loss: 0.3412 - val_sparse_categorical_accuracy: 0.8814\n",
      "Epoch 14/30\n",
      "\u001b[1m1719/1719\u001b[0m \u001b[32m━━━━━━━━━━━━━━━━━━━━\u001b[0m\u001b[37m\u001b[0m \u001b[1m1s\u001b[0m 588us/step - loss: 0.1758 - sparse_categorical_accuracy: 0.9400 - val_loss: 0.3439 - val_sparse_categorical_accuracy: 0.8822\n",
      "Epoch 15/30\n",
      "\u001b[1m1719/1719\u001b[0m \u001b[32m━━━━━━━━━━━━━━━━━━━━\u001b[0m\u001b[37m\u001b[0m \u001b[1m1s\u001b[0m 579us/step - loss: 0.1726 - sparse_categorical_accuracy: 0.9415 - val_loss: 0.3432 - val_sparse_categorical_accuracy: 0.8824\n",
      "Epoch 16/30\n",
      "\u001b[1m1719/1719\u001b[0m \u001b[32m━━━━━━━━━━━━━━━━━━━━\u001b[0m\u001b[37m\u001b[0m \u001b[1m1s\u001b[0m 581us/step - loss: 0.1697 - sparse_categorical_accuracy: 0.9424 - val_loss: 0.3449 - val_sparse_categorical_accuracy: 0.8824\n",
      "Epoch 17/30\n",
      "\u001b[1m1719/1719\u001b[0m \u001b[32m━━━━━━━━━━━━━━━━━━━━\u001b[0m\u001b[37m\u001b[0m \u001b[1m1s\u001b[0m 589us/step - loss: 0.1669 - sparse_categorical_accuracy: 0.9439 - val_loss: 0.3488 - val_sparse_categorical_accuracy: 0.8804\n",
      "Epoch 18/30\n",
      "\u001b[1m1719/1719\u001b[0m \u001b[32m━━━━━━━━━━━━━━━━━━━━\u001b[0m\u001b[37m\u001b[0m \u001b[1m1s\u001b[0m 558us/step - loss: 0.1640 - sparse_categorical_accuracy: 0.9451 - val_loss: 0.3486 - val_sparse_categorical_accuracy: 0.8816\n",
      "Epoch 19/30\n",
      "\u001b[1m1719/1719\u001b[0m \u001b[32m━━━━━━━━━━━━━━━━━━━━\u001b[0m\u001b[37m\u001b[0m \u001b[1m1s\u001b[0m 588us/step - loss: 0.1612 - sparse_categorical_accuracy: 0.9461 - val_loss: 0.3516 - val_sparse_categorical_accuracy: 0.8820\n",
      "Epoch 20/30\n",
      "\u001b[1m1719/1719\u001b[0m \u001b[32m━━━━━━━━━━━━━━━━━━━━\u001b[0m\u001b[37m\u001b[0m \u001b[1m1s\u001b[0m 571us/step - loss: 0.1583 - sparse_categorical_accuracy: 0.9469 - val_loss: 0.3509 - val_sparse_categorical_accuracy: 0.8840\n",
      "Epoch 21/30\n",
      "\u001b[1m1719/1719\u001b[0m \u001b[32m━━━━━━━━━━━━━━━━━━━━\u001b[0m\u001b[37m\u001b[0m \u001b[1m1s\u001b[0m 578us/step - loss: 0.1553 - sparse_categorical_accuracy: 0.9482 - val_loss: 0.3526 - val_sparse_categorical_accuracy: 0.8838\n",
      "Epoch 22/30\n",
      "\u001b[1m1719/1719\u001b[0m \u001b[32m━━━━━━━━━━━━━━━━━━━━\u001b[0m\u001b[37m\u001b[0m \u001b[1m1s\u001b[0m 580us/step - loss: 0.1525 - sparse_categorical_accuracy: 0.9497 - val_loss: 0.3526 - val_sparse_categorical_accuracy: 0.8834\n",
      "Epoch 23/30\n",
      "\u001b[1m1719/1719\u001b[0m \u001b[32m━━━━━━━━━━━━━━━━━━━━\u001b[0m\u001b[37m\u001b[0m \u001b[1m1s\u001b[0m 574us/step - loss: 0.1496 - sparse_categorical_accuracy: 0.9507 - val_loss: 0.3560 - val_sparse_categorical_accuracy: 0.8842\n",
      "Epoch 24/30\n",
      "\u001b[1m1719/1719\u001b[0m \u001b[32m━━━━━━━━━━━━━━━━━━━━\u001b[0m\u001b[37m\u001b[0m \u001b[1m1s\u001b[0m 565us/step - loss: 0.1468 - sparse_categorical_accuracy: 0.9521 - val_loss: 0.3592 - val_sparse_categorical_accuracy: 0.8824\n",
      "Epoch 25/30\n",
      "\u001b[1m1719/1719\u001b[0m \u001b[32m━━━━━━━━━━━━━━━━━━━━\u001b[0m\u001b[37m\u001b[0m \u001b[1m1s\u001b[0m 587us/step - loss: 0.1443 - sparse_categorical_accuracy: 0.9527 - val_loss: 0.3605 - val_sparse_categorical_accuracy: 0.8834\n",
      "Epoch 26/30\n",
      "\u001b[1m1719/1719\u001b[0m \u001b[32m━━━━━━━━━━━━━━━━━━━━\u001b[0m\u001b[37m\u001b[0m \u001b[1m1s\u001b[0m 580us/step - loss: 0.1416 - sparse_categorical_accuracy: 0.9535 - val_loss: 0.3670 - val_sparse_categorical_accuracy: 0.8826\n",
      "Epoch 27/30\n",
      "\u001b[1m1719/1719\u001b[0m \u001b[32m━━━━━━━━━━━━━━━━━━━━\u001b[0m\u001b[37m\u001b[0m \u001b[1m1s\u001b[0m 560us/step - loss: 0.1389 - sparse_categorical_accuracy: 0.9547 - val_loss: 0.3662 - val_sparse_categorical_accuracy: 0.8824\n",
      "Epoch 28/30\n",
      "\u001b[1m1719/1719\u001b[0m \u001b[32m━━━━━━━━━━━━━━━━━━━━\u001b[0m\u001b[37m\u001b[0m \u001b[1m1s\u001b[0m 556us/step - loss: 0.1362 - sparse_categorical_accuracy: 0.9552 - val_loss: 0.3681 - val_sparse_categorical_accuracy: 0.8830\n",
      "Epoch 29/30\n",
      "\u001b[1m1719/1719\u001b[0m \u001b[32m━━━━━━━━━━━━━━━━━━━━\u001b[0m\u001b[37m\u001b[0m \u001b[1m1s\u001b[0m 579us/step - loss: 0.1336 - sparse_categorical_accuracy: 0.9563 - val_loss: 0.3758 - val_sparse_categorical_accuracy: 0.8820\n",
      "Epoch 30/30\n",
      "\u001b[1m1719/1719\u001b[0m \u001b[32m━━━━━━━━━━━━━━━━━━━━\u001b[0m\u001b[37m\u001b[0m \u001b[1m1s\u001b[0m 570us/step - loss: 0.1312 - sparse_categorical_accuracy: 0.9567 - val_loss: 0.3712 - val_sparse_categorical_accuracy: 0.8818\n"
     ]
    }
   ],
   "source": [
    "# training the model and evaluating the model\n",
    "\n",
    "history = model.fit(X_train, y_train, epochs=30, validation_data=(X_valid, y_valid))\n"
   ]
  },
  {
   "cell_type": "code",
   "execution_count": 33,
   "metadata": {},
   "outputs": [
    {
     "data": {
      "image/png": "[encoded data removed]",
      "text/plain": [
       "<Figure size 800x500 with 1 Axes>"
      ]
     },
     "metadata": {},
     "output_type": "display_data"
    }
   ],
   "source": [
    "pd.DataFrame(history.history).plot(\n",
    "    figsize=(8,5), xlim=[0,29], ylim=[0,1], grid=True,\n",
    "    style=['r--', 'r--.', 'b-', 'b-*']\n",
    ")\n",
    "plt.show()"
   ]
  },
  {
   "cell_type": "code",
   "execution_count": 34,
   "metadata": {},
   "outputs": [
    {
     "name": "stdout",
     "output_type": "stream",
     "text": [
      "\u001b[1m313/313\u001b[0m \u001b[32m━━━━━━━━━━━━━━━━━━━━\u001b[0m\u001b[37m\u001b[0m \u001b[1m0s\u001b[0m 368us/step - loss: 0.3883 - sparse_categorical_accuracy: 0.8760\n"
     ]
    },
    {
     "data": {
      "text/plain": [
       "[0.3782989978790283, 0.8791000247001648]"
      ]
     },
     "execution_count": 34,
     "metadata": {},
     "output_type": "execute_result"
    }
   ],
   "source": [
    "model.evaluate(X_test, y_test)"
   ]
  },
  {
   "cell_type": "code",
   "execution_count": 35,
   "metadata": {},
   "outputs": [
    {
     "name": "stdout",
     "output_type": "stream",
     "text": [
      "\u001b[1m1/1\u001b[0m \u001b[32m━━━━━━━━━━━━━━━━━━━━\u001b[0m\u001b[37m\u001b[0m \u001b[1m0s\u001b[0m 20ms/step\n"
     ]
    },
    {
     "data": {
      "text/plain": [
       "array([[0.  , 0.  , 0.  , 0.  , 0.  , 0.01, 0.  , 0.  , 0.  , 0.99],\n",
       "       [0.  , 0.  , 1.  , 0.  , 0.  , 0.  , 0.  , 0.  , 0.  , 0.  ],\n",
       "       [0.  , 1.  , 0.  , 0.  , 0.  , 0.  , 0.  , 0.  , 0.  , 0.  ]],\n",
       "      dtype=float32)"
      ]
     },
     "execution_count": 35,
     "metadata": {},
     "output_type": "execute_result"
    }
   ],
   "source": [
    "# making predicitons\n",
    "X_new = X_test[:3]\n",
    "y_proba = model.predict(X_new)\n",
    "y_proba.round(2)"
   ]
  },
  {
   "cell_type": "code",
   "execution_count": 36,
   "metadata": {},
   "outputs": [
    {
     "data": {
      "text/plain": [
       "array([9, 2, 1])"
      ]
     },
     "execution_count": 36,
     "metadata": {},
     "output_type": "execute_result"
    }
   ],
   "source": [
    "y_pred = y_proba.argmax(axis=-1)\n",
    "y_pred"
   ]
  },
  {
   "cell_type": "code",
   "execution_count": 38,
   "metadata": {},
   "outputs": [
    {
     "data": {
      "text/plain": [
       "array(['Ankle boot', 'Pullover', 'Trouser'], dtype='<U11')"
      ]
     },
     "execution_count": 38,
     "metadata": {},
     "output_type": "execute_result"
    }
   ],
   "source": [
    "np.array(class_names)[y_pred]"
   ]
  },
  {
   "cell_type": "code",
   "execution_count": 56,
   "metadata": {},
   "outputs": [
    {
     "name": "stdout",
     "output_type": "stream",
     "text": [
      "Epoch 1/50\n",
      "\u001b[1m363/363\u001b[0m \u001b[32m━━━━━━━━━━━━━━━━━━━━\u001b[0m\u001b[37m\u001b[0m \u001b[1m1s\u001b[0m 552us/step - loss: 0.9285 - root_mean_squared_error: 0.9270 - val_loss: 0.6299 - val_root_mean_squared_error: 0.7937\n",
      "Epoch 2/50\n",
      "\u001b[1m363/363\u001b[0m \u001b[32m━━━━━━━━━━━━━━━━━━━━\u001b[0m\u001b[37m\u001b[0m \u001b[1m0s\u001b[0m 394us/step - loss: 0.4053 - root_mean_squared_error: 0.6364 - val_loss: 0.3495 - val_root_mean_squared_error: 0.5912\n",
      "Epoch 3/50\n",
      "\u001b[1m363/363\u001b[0m \u001b[32m━━━━━━━━━━━━━━━━━━━━\u001b[0m\u001b[37m\u001b[0m \u001b[1m0s\u001b[0m 395us/step - loss: 0.3715 - root_mean_squared_error: 0.6093 - val_loss: 0.3254 - val_root_mean_squared_error: 0.5704\n",
      "Epoch 4/50\n",
      "\u001b[1m363/363\u001b[0m \u001b[32m━━━━━━━━━━━━━━━━━━━━\u001b[0m\u001b[37m\u001b[0m \u001b[1m0s\u001b[0m 403us/step - loss: 0.3506 - root_mean_squared_error: 0.5920 - val_loss: 0.3022 - val_root_mean_squared_error: 0.5497\n",
      "Epoch 5/50\n",
      "\u001b[1m363/363\u001b[0m \u001b[32m━━━━━━━━━━━━━━━━━━━━\u001b[0m\u001b[37m\u001b[0m \u001b[1m0s\u001b[0m 396us/step - loss: 0.3384 - root_mean_squared_error: 0.5816 - val_loss: 0.2900 - val_root_mean_squared_error: 0.5385\n",
      "Epoch 6/50\n",
      "\u001b[1m363/363\u001b[0m \u001b[32m━━━━━━━━━━━━━━━━━━━━\u001b[0m\u001b[37m\u001b[0m \u001b[1m0s\u001b[0m 399us/step - loss: 0.3408 - root_mean_squared_error: 0.5836 - val_loss: 0.3121 - val_root_mean_squared_error: 0.5586\n",
      "Epoch 7/50\n",
      "\u001b[1m363/363\u001b[0m \u001b[32m━━━━━━━━━━━━━━━━━━━━\u001b[0m\u001b[37m\u001b[0m \u001b[1m0s\u001b[0m 386us/step - loss: 0.3303 - root_mean_squared_error: 0.5746 - val_loss: 0.3030 - val_root_mean_squared_error: 0.5505\n",
      "Epoch 8/50\n",
      "\u001b[1m363/363\u001b[0m \u001b[32m━━━━━━━━━━━━━━━━━━━━\u001b[0m\u001b[37m\u001b[0m \u001b[1m0s\u001b[0m 461us/step - loss: 0.3274 - root_mean_squared_error: 0.5721 - val_loss: 0.3010 - val_root_mean_squared_error: 0.5486\n",
      "Epoch 9/50\n",
      "\u001b[1m363/363\u001b[0m \u001b[32m━━━━━━━━━━━━━━━━━━━━\u001b[0m\u001b[37m\u001b[0m \u001b[1m0s\u001b[0m 395us/step - loss: 0.3163 - root_mean_squared_error: 0.5623 - val_loss: 0.2790 - val_root_mean_squared_error: 0.5282\n",
      "Epoch 10/50\n",
      "\u001b[1m363/363\u001b[0m \u001b[32m━━━━━━━━━━━━━━━━━━━━\u001b[0m\u001b[37m\u001b[0m \u001b[1m0s\u001b[0m 399us/step - loss: 0.3075 - root_mean_squared_error: 0.5544 - val_loss: 0.2794 - val_root_mean_squared_error: 0.5286\n",
      "Epoch 11/50\n",
      "\u001b[1m363/363\u001b[0m \u001b[32m━━━━━━━━━━━━━━━━━━━━\u001b[0m\u001b[37m\u001b[0m \u001b[1m0s\u001b[0m 387us/step - loss: 0.3095 - root_mean_squared_error: 0.5563 - val_loss: 0.2810 - val_root_mean_squared_error: 0.5301\n",
      "Epoch 12/50\n",
      "\u001b[1m363/363\u001b[0m \u001b[32m━━━━━━━━━━━━━━━━━━━━\u001b[0m\u001b[37m\u001b[0m \u001b[1m0s\u001b[0m 388us/step - loss: 0.3048 - root_mean_squared_error: 0.5520 - val_loss: 0.2776 - val_root_mean_squared_error: 0.5269\n",
      "Epoch 13/50\n",
      "\u001b[1m363/363\u001b[0m \u001b[32m━━━━━━━━━━━━━━━━━━━━\u001b[0m\u001b[37m\u001b[0m \u001b[1m0s\u001b[0m 396us/step - loss: 0.3043 - root_mean_squared_error: 0.5515 - val_loss: 0.2814 - val_root_mean_squared_error: 0.5305\n",
      "Epoch 14/50\n",
      "\u001b[1m363/363\u001b[0m \u001b[32m━━━━━━━━━━━━━━━━━━━━\u001b[0m\u001b[37m\u001b[0m \u001b[1m0s\u001b[0m 394us/step - loss: 0.3006 - root_mean_squared_error: 0.5481 - val_loss: 0.2804 - val_root_mean_squared_error: 0.5295\n",
      "Epoch 15/50\n",
      "\u001b[1m363/363\u001b[0m \u001b[32m━━━━━━━━━━━━━━━━━━━━\u001b[0m\u001b[37m\u001b[0m \u001b[1m0s\u001b[0m 389us/step - loss: 0.3035 - root_mean_squared_error: 0.5508 - val_loss: 0.2691 - val_root_mean_squared_error: 0.5188\n",
      "Epoch 16/50\n",
      "\u001b[1m363/363\u001b[0m \u001b[32m━━━━━━━━━━━━━━━━━━━━\u001b[0m\u001b[37m\u001b[0m \u001b[1m0s\u001b[0m 387us/step - loss: 0.2940 - root_mean_squared_error: 0.5421 - val_loss: 0.2686 - val_root_mean_squared_error: 0.5183\n",
      "Epoch 17/50\n",
      "\u001b[1m363/363\u001b[0m \u001b[32m━━━━━━━━━━━━━━━━━━━━\u001b[0m\u001b[37m\u001b[0m \u001b[1m0s\u001b[0m 399us/step - loss: 0.2938 - root_mean_squared_error: 0.5419 - val_loss: 0.2719 - val_root_mean_squared_error: 0.5215\n",
      "Epoch 18/50\n",
      "\u001b[1m363/363\u001b[0m \u001b[32m━━━━━━━━━━━━━━━━━━━━\u001b[0m\u001b[37m\u001b[0m \u001b[1m0s\u001b[0m 397us/step - loss: 0.3056 - root_mean_squared_error: 0.5525 - val_loss: 0.2690 - val_root_mean_squared_error: 0.5187\n",
      "Epoch 19/50\n",
      "\u001b[1m363/363\u001b[0m \u001b[32m━━━━━━━━━━━━━━━━━━━━\u001b[0m\u001b[37m\u001b[0m \u001b[1m0s\u001b[0m 399us/step - loss: 0.2929 - root_mean_squared_error: 0.5411 - val_loss: 0.2642 - val_root_mean_squared_error: 0.5140\n",
      "Epoch 20/50\n",
      "\u001b[1m363/363\u001b[0m \u001b[32m━━━━━━━━━━━━━━━━━━━━\u001b[0m\u001b[37m\u001b[0m \u001b[1m0s\u001b[0m 384us/step - loss: 0.2887 - root_mean_squared_error: 0.5373 - val_loss: 0.2648 - val_root_mean_squared_error: 0.5146\n",
      "Epoch 21/50\n",
      "\u001b[1m363/363\u001b[0m \u001b[32m━━━━━━━━━━━━━━━━━━━━\u001b[0m\u001b[37m\u001b[0m \u001b[1m0s\u001b[0m 395us/step - loss: 0.2827 - root_mean_squared_error: 0.5316 - val_loss: 0.2671 - val_root_mean_squared_error: 0.5168\n",
      "Epoch 22/50\n",
      "\u001b[1m363/363\u001b[0m \u001b[32m━━━━━━━━━━━━━━━━━━━━\u001b[0m\u001b[37m\u001b[0m \u001b[1m0s\u001b[0m 393us/step - loss: 0.2813 - root_mean_squared_error: 0.5303 - val_loss: 0.2637 - val_root_mean_squared_error: 0.5135\n",
      "Epoch 23/50\n",
      "\u001b[1m363/363\u001b[0m \u001b[32m━━━━━━━━━━━━━━━━━━━━\u001b[0m\u001b[37m\u001b[0m \u001b[1m0s\u001b[0m 387us/step - loss: 0.2754 - root_mean_squared_error: 0.5247 - val_loss: 0.2626 - val_root_mean_squared_error: 0.5125\n",
      "Epoch 24/50\n",
      "\u001b[1m363/363\u001b[0m \u001b[32m━━━━━━━━━━━━━━━━━━━━\u001b[0m\u001b[37m\u001b[0m \u001b[1m0s\u001b[0m 382us/step - loss: 0.2738 - root_mean_squared_error: 0.5232 - val_loss: 0.2604 - val_root_mean_squared_error: 0.5103\n",
      "Epoch 25/50\n",
      "\u001b[1m363/363\u001b[0m \u001b[32m━━━━━━━━━━━━━━━━━━━━\u001b[0m\u001b[37m\u001b[0m \u001b[1m0s\u001b[0m 387us/step - loss: 0.2756 - root_mean_squared_error: 0.5249 - val_loss: 0.2598 - val_root_mean_squared_error: 0.5097\n",
      "Epoch 26/50\n",
      "\u001b[1m363/363\u001b[0m \u001b[32m━━━━━━━━━━━━━━━━━━━━\u001b[0m\u001b[37m\u001b[0m \u001b[1m0s\u001b[0m 385us/step - loss: 0.2803 - root_mean_squared_error: 0.5293 - val_loss: 0.2759 - val_root_mean_squared_error: 0.5252\n",
      "Epoch 27/50\n",
      "\u001b[1m363/363\u001b[0m \u001b[32m━━━━━━━━━━━━━━━━━━━━\u001b[0m\u001b[37m\u001b[0m \u001b[1m0s\u001b[0m 386us/step - loss: 0.2717 - root_mean_squared_error: 0.5212 - val_loss: 0.2611 - val_root_mean_squared_error: 0.5110\n",
      "Epoch 28/50\n",
      "\u001b[1m363/363\u001b[0m \u001b[32m━━━━━━━━━━━━━━━━━━━━\u001b[0m\u001b[37m\u001b[0m \u001b[1m0s\u001b[0m 382us/step - loss: 0.2668 - root_mean_squared_error: 0.5164 - val_loss: 0.2657 - val_root_mean_squared_error: 0.5154\n",
      "Epoch 29/50\n",
      "\u001b[1m363/363\u001b[0m \u001b[32m━━━━━━━━━━━━━━━━━━━━\u001b[0m\u001b[37m\u001b[0m \u001b[1m0s\u001b[0m 387us/step - loss: 0.2666 - root_mean_squared_error: 0.5163 - val_loss: 0.2645 - val_root_mean_squared_error: 0.5143\n",
      "Epoch 30/50\n",
      "\u001b[1m363/363\u001b[0m \u001b[32m━━━━━━━━━━━━━━━━━━━━\u001b[0m\u001b[37m\u001b[0m \u001b[1m0s\u001b[0m 392us/step - loss: 0.2723 - root_mean_squared_error: 0.5217 - val_loss: 0.2648 - val_root_mean_squared_error: 0.5146\n",
      "Epoch 31/50\n",
      "\u001b[1m363/363\u001b[0m \u001b[32m━━━━━━━━━━━━━━━━━━━━\u001b[0m\u001b[37m\u001b[0m \u001b[1m0s\u001b[0m 394us/step - loss: 0.2689 - root_mean_squared_error: 0.5185 - val_loss: 0.2596 - val_root_mean_squared_error: 0.5095\n",
      "Epoch 32/50\n",
      "\u001b[1m363/363\u001b[0m \u001b[32m━━━━━━━━━━━━━━━━━━━━\u001b[0m\u001b[37m\u001b[0m \u001b[1m0s\u001b[0m 409us/step - loss: 0.2655 - root_mean_squared_error: 0.5152 - val_loss: 0.2589 - val_root_mean_squared_error: 0.5088\n",
      "Epoch 33/50\n",
      "\u001b[1m363/363\u001b[0m \u001b[32m━━━━━━━━━━━━━━━━━━━━\u001b[0m\u001b[37m\u001b[0m \u001b[1m0s\u001b[0m 459us/step - loss: 0.2656 - root_mean_squared_error: 0.5153 - val_loss: 0.2649 - val_root_mean_squared_error: 0.5147\n",
      "Epoch 34/50\n",
      "\u001b[1m363/363\u001b[0m \u001b[32m━━━━━━━━━━━━━━━━━━━━\u001b[0m\u001b[37m\u001b[0m \u001b[1m0s\u001b[0m 395us/step - loss: 0.2638 - root_mean_squared_error: 0.5135 - val_loss: 0.2569 - val_root_mean_squared_error: 0.5068\n",
      "Epoch 35/50\n",
      "\u001b[1m363/363\u001b[0m \u001b[32m━━━━━━━━━━━━━━━━━━━━\u001b[0m\u001b[37m\u001b[0m \u001b[1m0s\u001b[0m 386us/step - loss: 0.2923 - root_mean_squared_error: 0.5403 - val_loss: 0.2655 - val_root_mean_squared_error: 0.5153\n",
      "Epoch 36/50\n",
      "\u001b[1m363/363\u001b[0m \u001b[32m━━━━━━━━━━━━━━━━━━━━\u001b[0m\u001b[37m\u001b[0m \u001b[1m0s\u001b[0m 388us/step - loss: 0.2647 - root_mean_squared_error: 0.5145 - val_loss: 0.2675 - val_root_mean_squared_error: 0.5172\n",
      "Epoch 37/50\n",
      "\u001b[1m363/363\u001b[0m \u001b[32m━━━━━━━━━━━━━━━━━━━━\u001b[0m\u001b[37m\u001b[0m \u001b[1m0s\u001b[0m 388us/step - loss: 0.2636 - root_mean_squared_error: 0.5134 - val_loss: 0.2709 - val_root_mean_squared_error: 0.5205\n",
      "Epoch 38/50\n",
      "\u001b[1m363/363\u001b[0m \u001b[32m━━━━━━━━━━━━━━━━━━━━\u001b[0m\u001b[37m\u001b[0m \u001b[1m0s\u001b[0m 407us/step - loss: 0.2584 - root_mean_squared_error: 0.5083 - val_loss: 0.2588 - val_root_mean_squared_error: 0.5087\n",
      "Epoch 39/50\n",
      "\u001b[1m363/363\u001b[0m \u001b[32m━━━━━━━━━━━━━━━━━━━━\u001b[0m\u001b[37m\u001b[0m \u001b[1m0s\u001b[0m 393us/step - loss: 0.2578 - root_mean_squared_error: 0.5077 - val_loss: 0.2659 - val_root_mean_squared_error: 0.5156\n",
      "Epoch 40/50\n",
      "\u001b[1m363/363\u001b[0m \u001b[32m━━━━━━━━━━━━━━━━━━━━\u001b[0m\u001b[37m\u001b[0m \u001b[1m0s\u001b[0m 386us/step - loss: 0.2618 - root_mean_squared_error: 0.5116 - val_loss: 0.2660 - val_root_mean_squared_error: 0.5157\n",
      "Epoch 41/50\n",
      "\u001b[1m363/363\u001b[0m \u001b[32m━━━━━━━━━━━━━━━━━━━━\u001b[0m\u001b[37m\u001b[0m \u001b[1m0s\u001b[0m 386us/step - loss: 0.2544 - root_mean_squared_error: 0.5043 - val_loss: 0.2620 - val_root_mean_squared_error: 0.5118\n",
      "Epoch 42/50\n",
      "\u001b[1m363/363\u001b[0m \u001b[32m━━━━━━━━━━━━━━━━━━━━\u001b[0m\u001b[37m\u001b[0m \u001b[1m0s\u001b[0m 386us/step - loss: 0.2549 - root_mean_squared_error: 0.5048 - val_loss: 0.2596 - val_root_mean_squared_error: 0.5095\n",
      "Epoch 43/50\n",
      "\u001b[1m363/363\u001b[0m \u001b[32m━━━━━━━━━━━━━━━━━━━━\u001b[0m\u001b[37m\u001b[0m \u001b[1m0s\u001b[0m 380us/step - loss: 0.2508 - root_mean_squared_error: 0.5008 - val_loss: 0.2613 - val_root_mean_squared_error: 0.5112\n",
      "Epoch 44/50\n",
      "\u001b[1m363/363\u001b[0m \u001b[32m━━━━━━━━━━━━━━━━━━━━\u001b[0m\u001b[37m\u001b[0m \u001b[1m0s\u001b[0m 385us/step - loss: 0.2525 - root_mean_squared_error: 0.5024 - val_loss: 0.2670 - val_root_mean_squared_error: 0.5167\n",
      "Epoch 45/50\n",
      "\u001b[1m363/363\u001b[0m \u001b[32m━━━━━━━━━━━━━━━━━━━━\u001b[0m\u001b[37m\u001b[0m \u001b[1m0s\u001b[0m 388us/step - loss: 0.2496 - root_mean_squared_error: 0.4996 - val_loss: 0.2587 - val_root_mean_squared_error: 0.5087\n",
      "Epoch 46/50\n",
      "\u001b[1m363/363\u001b[0m \u001b[32m━━━━━━━━━━━━━━━━━━━━\u001b[0m\u001b[37m\u001b[0m \u001b[1m0s\u001b[0m 385us/step - loss: 0.2497 - root_mean_squared_error: 0.4997 - val_loss: 0.2644 - val_root_mean_squared_error: 0.5142\n",
      "Epoch 47/50\n",
      "\u001b[1m363/363\u001b[0m \u001b[32m━━━━━━━━━━━━━━━━━━━━\u001b[0m\u001b[37m\u001b[0m \u001b[1m0s\u001b[0m 384us/step - loss: 0.2524 - root_mean_squared_error: 0.5023 - val_loss: 0.2688 - val_root_mean_squared_error: 0.5185\n",
      "Epoch 48/50\n",
      "\u001b[1m363/363\u001b[0m \u001b[32m━━━━━━━━━━━━━━━━━━━━\u001b[0m\u001b[37m\u001b[0m \u001b[1m0s\u001b[0m 385us/step - loss: 0.2509 - root_mean_squared_error: 0.5009 - val_loss: 0.2699 - val_root_mean_squared_error: 0.5195\n",
      "Epoch 49/50\n",
      "\u001b[1m363/363\u001b[0m \u001b[32m━━━━━━━━━━━━━━━━━━━━\u001b[0m\u001b[37m\u001b[0m \u001b[1m0s\u001b[0m 384us/step - loss: 0.2494 - root_mean_squared_error: 0.4993 - val_loss: 0.2608 - val_root_mean_squared_error: 0.5107\n",
      "Epoch 50/50\n",
      "\u001b[1m363/363\u001b[0m \u001b[32m━━━━━━━━━━━━━━━━━━━━\u001b[0m\u001b[37m\u001b[0m \u001b[1m0s\u001b[0m 386us/step - loss: 0.2508 - root_mean_squared_error: 0.5008 - val_loss: 0.2619 - val_root_mean_squared_error: 0.5117\n",
      "\u001b[1m162/162\u001b[0m \u001b[32m━━━━━━━━━━━━━━━━━━━━\u001b[0m\u001b[37m\u001b[0m \u001b[1m0s\u001b[0m 249us/step - loss: 0.2745 - root_mean_squared_error: 0.5237\n"
     ]
    }
   ],
   "source": [
    "tf.random.set_seed(42)\n",
    "\n",
    "norm_layer = tf.keras.layers.Normalization()\n",
    "\n",
    "model = tf.keras.Sequential([\n",
    "    tf.keras.layers.Input(shape=X_train.shape[1:]),\n",
    "    norm_layer,\n",
    "    tf.keras.layers.Dense(50, activation='relu'),\n",
    "    tf.keras.layers.Dense(50, activation='relu'),\n",
    "    tf.keras.layers.Dense(50, activation='relu'),\n",
    "    tf.keras.layers.Dense(1)\n",
    "])\n",
    "optimizer = tf.keras.optimizers.Adam(learning_rate=1e-2)\n",
    "model.compile(loss=tf.keras.losses.MSE, optimizer=optimizer,\n",
    "              metrics = [tf.keras.metrics.RootMeanSquaredError])\n",
    "\n",
    "norm_layer.adapt(X_train)\n",
    "\n",
    "history = model.fit(X_train, y_train, epochs=50, validation_data=(X_valid, y_valid))\n",
    "mse_test, rmse_test = model.evaluate(X_test, y_test)"
   ]
  },
  {
   "cell_type": "code",
   "execution_count": 57,
   "metadata": {},
   "outputs": [
    {
     "name": "stdout",
     "output_type": "stream",
     "text": [
      "\u001b[1m1/1\u001b[0m \u001b[32m━━━━━━━━━━━━━━━━━━━━\u001b[0m\u001b[37m\u001b[0m \u001b[1m0s\u001b[0m 23ms/step\n"
     ]
    },
    {
     "data": {
      "text/plain": [
       "array([[0.5175074],\n",
       "       [1.2859372],\n",
       "       [4.946061 ]], dtype=float32)"
      ]
     },
     "execution_count": 57,
     "metadata": {},
     "output_type": "execute_result"
    }
   ],
   "source": [
    "X_new = X_test[:3]\n",
    "y_pred = model.predict(X_new)\n",
    "y_pred"
   ]
  },
  {
   "cell_type": "code",
   "execution_count": 58,
   "metadata": {},
   "outputs": [
    {
     "data": {
      "text/html": [
       "<pre style=\"white-space:pre;overflow-x:auto;line-height:normal;font-family:Menlo,'DejaVu Sans Mono',consolas,'Courier New',monospace\"><span style=\"font-weight: bold\">Model: \"sequential_8\"</span>\n",
       "</pre>\n"
      ],
      "text/plain": [
       "\u001b[1mModel: \"sequential_8\"\u001b[0m\n"
      ]
     },
     "metadata": {},
     "output_type": "display_data"
    },
    {
     "data": {
      "text/html": [
       "<pre style=\"white-space:pre;overflow-x:auto;line-height:normal;font-family:Menlo,'DejaVu Sans Mono',consolas,'Courier New',monospace\">┏━━━━━━━━━━━━━━━━━━━━━━━━━━━━━━━━━┳━━━━━━━━━━━━━━━━━━━━━━━━┳━━━━━━━━━━━━━━━┓\n",
       "┃<span style=\"font-weight: bold\"> Layer (type)                    </span>┃<span style=\"font-weight: bold\"> Output Shape           </span>┃<span style=\"font-weight: bold\">       Param # </span>┃\n",
       "┡━━━━━━━━━━━━━━━━━━━━━━━━━━━━━━━━━╇━━━━━━━━━━━━━━━━━━━━━━━━╇━━━━━━━━━━━━━━━┩\n",
       "│ normalization_4 (<span style=\"color: #0087ff; text-decoration-color: #0087ff\">Normalization</span>) │ (<span style=\"color: #00d7ff; text-decoration-color: #00d7ff\">None</span>, <span style=\"color: #00af00; text-decoration-color: #00af00\">8</span>)              │            <span style=\"color: #00af00; text-decoration-color: #00af00\">17</span> │\n",
       "├─────────────────────────────────┼────────────────────────┼───────────────┤\n",
       "│ dense_28 (<span style=\"color: #0087ff; text-decoration-color: #0087ff\">Dense</span>)                │ (<span style=\"color: #00d7ff; text-decoration-color: #00d7ff\">None</span>, <span style=\"color: #00af00; text-decoration-color: #00af00\">50</span>)             │           <span style=\"color: #00af00; text-decoration-color: #00af00\">450</span> │\n",
       "├─────────────────────────────────┼────────────────────────┼───────────────┤\n",
       "│ dense_29 (<span style=\"color: #0087ff; text-decoration-color: #0087ff\">Dense</span>)                │ (<span style=\"color: #00d7ff; text-decoration-color: #00d7ff\">None</span>, <span style=\"color: #00af00; text-decoration-color: #00af00\">50</span>)             │         <span style=\"color: #00af00; text-decoration-color: #00af00\">2,550</span> │\n",
       "├─────────────────────────────────┼────────────────────────┼───────────────┤\n",
       "│ dense_30 (<span style=\"color: #0087ff; text-decoration-color: #0087ff\">Dense</span>)                │ (<span style=\"color: #00d7ff; text-decoration-color: #00d7ff\">None</span>, <span style=\"color: #00af00; text-decoration-color: #00af00\">50</span>)             │         <span style=\"color: #00af00; text-decoration-color: #00af00\">2,550</span> │\n",
       "├─────────────────────────────────┼────────────────────────┼───────────────┤\n",
       "│ dense_31 (<span style=\"color: #0087ff; text-decoration-color: #0087ff\">Dense</span>)                │ (<span style=\"color: #00d7ff; text-decoration-color: #00d7ff\">None</span>, <span style=\"color: #00af00; text-decoration-color: #00af00\">1</span>)              │            <span style=\"color: #00af00; text-decoration-color: #00af00\">51</span> │\n",
       "└─────────────────────────────────┴────────────────────────┴───────────────┘\n",
       "</pre>\n"
      ],
      "text/plain": [
       "┏━━━━━━━━━━━━━━━━━━━━━━━━━━━━━━━━━┳━━━━━━━━━━━━━━━━━━━━━━━━┳━━━━━━━━━━━━━━━┓\n",
       "┃\u001b[1m \u001b[0m\u001b[1mLayer (type)                   \u001b[0m\u001b[1m \u001b[0m┃\u001b[1m \u001b[0m\u001b[1mOutput Shape          \u001b[0m\u001b[1m \u001b[0m┃\u001b[1m \u001b[0m\u001b[1m      Param #\u001b[0m\u001b[1m \u001b[0m┃\n",
       "┡━━━━━━━━━━━━━━━━━━━━━━━━━━━━━━━━━╇━━━━━━━━━━━━━━━━━━━━━━━━╇━━━━━━━━━━━━━━━┩\n",
       "│ normalization_4 (\u001b[38;5;33mNormalization\u001b[0m) │ (\u001b[38;5;45mNone\u001b[0m, \u001b[38;5;34m8\u001b[0m)              │            \u001b[38;5;34m17\u001b[0m │\n",
       "├─────────────────────────────────┼────────────────────────┼───────────────┤\n",
       "│ dense_28 (\u001b[38;5;33mDense\u001b[0m)                │ (\u001b[38;5;45mNone\u001b[0m, \u001b[38;5;34m50\u001b[0m)             │           \u001b[38;5;34m450\u001b[0m │\n",
       "├─────────────────────────────────┼────────────────────────┼───────────────┤\n",
       "│ dense_29 (\u001b[38;5;33mDense\u001b[0m)                │ (\u001b[38;5;45mNone\u001b[0m, \u001b[38;5;34m50\u001b[0m)             │         \u001b[38;5;34m2,550\u001b[0m │\n",
       "├─────────────────────────────────┼────────────────────────┼───────────────┤\n",
       "│ dense_30 (\u001b[38;5;33mDense\u001b[0m)                │ (\u001b[38;5;45mNone\u001b[0m, \u001b[38;5;34m50\u001b[0m)             │         \u001b[38;5;34m2,550\u001b[0m │\n",
       "├─────────────────────────────────┼────────────────────────┼───────────────┤\n",
       "│ dense_31 (\u001b[38;5;33mDense\u001b[0m)                │ (\u001b[38;5;45mNone\u001b[0m, \u001b[38;5;34m1\u001b[0m)              │            \u001b[38;5;34m51\u001b[0m │\n",
       "└─────────────────────────────────┴────────────────────────┴───────────────┘\n"
      ]
     },
     "metadata": {},
     "output_type": "display_data"
    },
    {
     "data": {
      "text/html": [
       "<pre style=\"white-space:pre;overflow-x:auto;line-height:normal;font-family:Menlo,'DejaVu Sans Mono',consolas,'Courier New',monospace\"><span style=\"font-weight: bold\"> Total params: </span><span style=\"color: #00af00; text-decoration-color: #00af00\">16,822</span> (65.72 KB)\n",
       "</pre>\n"
      ],
      "text/plain": [
       "\u001b[1m Total params: \u001b[0m\u001b[38;5;34m16,822\u001b[0m (65.72 KB)\n"
      ]
     },
     "metadata": {},
     "output_type": "display_data"
    },
    {
     "data": {
      "text/html": [
       "<pre style=\"white-space:pre;overflow-x:auto;line-height:normal;font-family:Menlo,'DejaVu Sans Mono',consolas,'Courier New',monospace\"><span style=\"font-weight: bold\"> Trainable params: </span><span style=\"color: #00af00; text-decoration-color: #00af00\">5,601</span> (21.88 KB)\n",
       "</pre>\n"
      ],
      "text/plain": [
       "\u001b[1m Trainable params: \u001b[0m\u001b[38;5;34m5,601\u001b[0m (21.88 KB)\n"
      ]
     },
     "metadata": {},
     "output_type": "display_data"
    },
    {
     "data": {
      "text/html": [
       "<pre style=\"white-space:pre;overflow-x:auto;line-height:normal;font-family:Menlo,'DejaVu Sans Mono',consolas,'Courier New',monospace\"><span style=\"font-weight: bold\"> Non-trainable params: </span><span style=\"color: #00af00; text-decoration-color: #00af00\">17</span> (72.00 B)\n",
       "</pre>\n"
      ],
      "text/plain": [
       "\u001b[1m Non-trainable params: \u001b[0m\u001b[38;5;34m17\u001b[0m (72.00 B)\n"
      ]
     },
     "metadata": {},
     "output_type": "display_data"
    },
    {
     "data": {
      "text/html": [
       "<pre style=\"white-space:pre;overflow-x:auto;line-height:normal;font-family:Menlo,'DejaVu Sans Mono',consolas,'Courier New',monospace\"><span style=\"font-weight: bold\"> Optimizer params: </span><span style=\"color: #00af00; text-decoration-color: #00af00\">11,204</span> (43.77 KB)\n",
       "</pre>\n"
      ],
      "text/plain": [
       "\u001b[1m Optimizer params: \u001b[0m\u001b[38;5;34m11,204\u001b[0m (43.77 KB)\n"
      ]
     },
     "metadata": {},
     "output_type": "display_data"
    }
   ],
   "source": [
    "model.summary()"
   ]
  },
  {
   "cell_type": "code",
   "execution_count": 59,
   "metadata": {},
   "outputs": [
    {
     "data": {
      "text/plain": [
       "<Axes: >"
      ]
     },
     "execution_count": 59,
     "metadata": {},
     "output_type": "execute_result"
    },
    {
     "data": {
      "image/png": "[encoded data removed]",
      "text/plain": [
       "<Figure size 800x500 with 1 Axes>"
      ]
     },
     "metadata": {},
     "output_type": "display_data"
    }
   ],
   "source": [
    "pd.DataFrame(history.history).plot(\n",
    "    figsize=[8,5], xlim=[0, 19], ylim=[0,1],\n",
    "    style=['r--', 'r--.', 'b-', 'b-*']\n",
    ")"
   ]
  },
  {
   "cell_type": "code",
   "execution_count": 4,
   "metadata": {},
   "outputs": [
    {
     "name": "stdout",
     "output_type": "stream",
     "text": [
      "Epoch 1/30\n"
     ]
    },
    {
     "name": "stderr",
     "output_type": "stream",
     "text": [
      "/Users/chiragbangera/Developer/Handsonml/.venv/lib/python3.12/site-packages/keras/src/models/functional.py:238: UserWarning: The structure of `inputs` doesn't match the expected structure.\n",
      "Expected: ['keras_tensor']\n",
      "Received: inputs=Tensor(shape=(None, 8))\n",
      "  warnings.warn(msg)\n"
     ]
    },
    {
     "name": "stdout",
     "output_type": "stream",
     "text": [
      "\u001b[1m363/363\u001b[0m \u001b[32m━━━━━━━━━━━━━━━━━━━━\u001b[0m\u001b[37m\u001b[0m \u001b[1m1s\u001b[0m 1ms/step - loss: 4.0766 - root_mean_squared_error: 2.0147 - val_loss: 24.1294 - val_root_mean_squared_error: 4.9122\n",
      "Epoch 2/30\n",
      "\u001b[1m363/363\u001b[0m \u001b[32m━━━━━━━━━━━━━━━━━━━━\u001b[0m\u001b[37m\u001b[0m \u001b[1m0s\u001b[0m 1ms/step - loss: 1.7803 - root_mean_squared_error: 1.3336 - val_loss: 22.8348 - val_root_mean_squared_error: 4.7786\n",
      "Epoch 3/30\n",
      "\u001b[1m363/363\u001b[0m \u001b[32m━━━━━━━━━━━━━━━━━━━━\u001b[0m\u001b[37m\u001b[0m \u001b[1m0s\u001b[0m 1ms/step - loss: 1.0932 - root_mean_squared_error: 1.0452 - val_loss: 18.1341 - val_root_mean_squared_error: 4.2584\n",
      "Epoch 4/30\n",
      "\u001b[1m363/363\u001b[0m \u001b[32m━━━━━━━━━━━━━━━━━━━━\u001b[0m\u001b[37m\u001b[0m \u001b[1m0s\u001b[0m 1ms/step - loss: 0.9403 - root_mean_squared_error: 0.9688 - val_loss: 14.5477 - val_root_mean_squared_error: 3.8141\n",
      "Epoch 5/30\n",
      "\u001b[1m363/363\u001b[0m \u001b[32m━━━━━━━━━━━━━━━━━━━━\u001b[0m\u001b[37m\u001b[0m \u001b[1m0s\u001b[0m 1ms/step - loss: 0.8747 - root_mean_squared_error: 0.9343 - val_loss: 11.6634 - val_root_mean_squared_error: 3.4152\n",
      "Epoch 6/30\n",
      "\u001b[1m363/363\u001b[0m \u001b[32m━━━━━━━━━━━━━━━━━━━━\u001b[0m\u001b[37m\u001b[0m \u001b[1m0s\u001b[0m 1ms/step - loss: 0.8855 - root_mean_squared_error: 0.9382 - val_loss: 9.2099 - val_root_mean_squared_error: 3.0348\n",
      "Epoch 7/30\n",
      "\u001b[1m363/363\u001b[0m \u001b[32m━━━━━━━━━━━━━━━━━━━━\u001b[0m\u001b[37m\u001b[0m \u001b[1m0s\u001b[0m 1ms/step - loss: 0.7523 - root_mean_squared_error: 0.8669 - val_loss: 7.2542 - val_root_mean_squared_error: 2.6934\n",
      "Epoch 8/30\n",
      "\u001b[1m363/363\u001b[0m \u001b[32m━━━━━━━━━━━━━━━━━━━━\u001b[0m\u001b[37m\u001b[0m \u001b[1m0s\u001b[0m 1ms/step - loss: 0.6636 - root_mean_squared_error: 0.8144 - val_loss: 5.5014 - val_root_mean_squared_error: 2.3455\n",
      "Epoch 9/30\n",
      "\u001b[1m363/363\u001b[0m \u001b[32m━━━━━━━━━━━━━━━━━━━━\u001b[0m\u001b[37m\u001b[0m \u001b[1m0s\u001b[0m 1ms/step - loss: 0.5947 - root_mean_squared_error: 0.7710 - val_loss: 4.1261 - val_root_mean_squared_error: 2.0313\n",
      "Epoch 10/30\n",
      "\u001b[1m363/363\u001b[0m \u001b[32m━━━━━━━━━━━━━━━━━━━━\u001b[0m\u001b[37m\u001b[0m \u001b[1m0s\u001b[0m 1ms/step - loss: 0.5879 - root_mean_squared_error: 0.7666 - val_loss: 3.0644 - val_root_mean_squared_error: 1.7505\n",
      "Epoch 11/30\n",
      "\u001b[1m363/363\u001b[0m \u001b[32m━━━━━━━━━━━━━━━━━━━━\u001b[0m\u001b[37m\u001b[0m \u001b[1m0s\u001b[0m 1ms/step - loss: 0.5488 - root_mean_squared_error: 0.7408 - val_loss: 2.2876 - val_root_mean_squared_error: 1.5125\n",
      "Epoch 12/30\n",
      "\u001b[1m363/363\u001b[0m \u001b[32m━━━━━━━━━━━━━━━━━━━━\u001b[0m\u001b[37m\u001b[0m \u001b[1m0s\u001b[0m 1ms/step - loss: 0.5359 - root_mean_squared_error: 0.7318 - val_loss: 1.7434 - val_root_mean_squared_error: 1.3204\n",
      "Epoch 13/30\n",
      "\u001b[1m363/363\u001b[0m \u001b[32m━━━━━━━━━━━━━━━━━━━━\u001b[0m\u001b[37m\u001b[0m \u001b[1m0s\u001b[0m 1ms/step - loss: 0.5110 - root_mean_squared_error: 0.7148 - val_loss: 1.3035 - val_root_mean_squared_error: 1.1417\n",
      "Epoch 14/30\n",
      "\u001b[1m363/363\u001b[0m \u001b[32m━━━━━━━━━━━━━━━━━━━━\u001b[0m\u001b[37m\u001b[0m \u001b[1m0s\u001b[0m 1ms/step - loss: 0.4705 - root_mean_squared_error: 0.6858 - val_loss: 1.0081 - val_root_mean_squared_error: 1.0040\n",
      "Epoch 15/30\n",
      "\u001b[1m363/363\u001b[0m \u001b[32m━━━━━━━━━━━━━━━━━━━━\u001b[0m\u001b[37m\u001b[0m \u001b[1m0s\u001b[0m 1ms/step - loss: 0.4716 - root_mean_squared_error: 0.6866 - val_loss: 0.7945 - val_root_mean_squared_error: 0.8913\n",
      "Epoch 16/30\n",
      "\u001b[1m363/363\u001b[0m \u001b[32m━━━━━━━━━━━━━━━━━━━━\u001b[0m\u001b[37m\u001b[0m \u001b[1m0s\u001b[0m 1ms/step - loss: 0.4666 - root_mean_squared_error: 0.6825 - val_loss: 0.6805 - val_root_mean_squared_error: 0.8249\n",
      "Epoch 17/30\n",
      "\u001b[1m363/363\u001b[0m \u001b[32m━━━━━━━━━━━━━━━━━━━━\u001b[0m\u001b[37m\u001b[0m \u001b[1m0s\u001b[0m 1ms/step - loss: 0.4538 - root_mean_squared_error: 0.6730 - val_loss: 0.5818 - val_root_mean_squared_error: 0.7628\n",
      "Epoch 18/30\n",
      "\u001b[1m363/363\u001b[0m \u001b[32m━━━━━━━━━━━━━━━━━━━━\u001b[0m\u001b[37m\u001b[0m \u001b[1m0s\u001b[0m 1ms/step - loss: 0.4236 - root_mean_squared_error: 0.6507 - val_loss: 0.5513 - val_root_mean_squared_error: 0.7425\n",
      "Epoch 19/30\n",
      "\u001b[1m363/363\u001b[0m \u001b[32m━━━━━━━━━━━━━━━━━━━━\u001b[0m\u001b[37m\u001b[0m \u001b[1m0s\u001b[0m 1ms/step - loss: 0.4150 - root_mean_squared_error: 0.6441 - val_loss: 0.5296 - val_root_mean_squared_error: 0.7278\n",
      "Epoch 20/30\n",
      "\u001b[1m363/363\u001b[0m \u001b[32m━━━━━━━━━━━━━━━━━━━━\u001b[0m\u001b[37m\u001b[0m \u001b[1m0s\u001b[0m 1ms/step - loss: 0.3996 - root_mean_squared_error: 0.6321 - val_loss: 0.4833 - val_root_mean_squared_error: 0.6952\n",
      "Epoch 21/30\n",
      "\u001b[1m363/363\u001b[0m \u001b[32m━━━━━━━━━━━━━━━━━━━━\u001b[0m\u001b[37m\u001b[0m \u001b[1m0s\u001b[0m 1ms/step - loss: 0.3985 - root_mean_squared_error: 0.6311 - val_loss: 0.4738 - val_root_mean_squared_error: 0.6883\n",
      "Epoch 22/30\n",
      "\u001b[1m363/363\u001b[0m \u001b[32m━━━━━━━━━━━━━━━━━━━━\u001b[0m\u001b[37m\u001b[0m \u001b[1m0s\u001b[0m 1ms/step - loss: 0.3813 - root_mean_squared_error: 0.6171 - val_loss: 0.4990 - val_root_mean_squared_error: 0.7064\n",
      "Epoch 23/30\n",
      "\u001b[1m363/363\u001b[0m \u001b[32m━━━━━━━━━━━━━━━━━━━━\u001b[0m\u001b[37m\u001b[0m \u001b[1m0s\u001b[0m 1ms/step - loss: 0.3817 - root_mean_squared_error: 0.6176 - val_loss: 0.4723 - val_root_mean_squared_error: 0.6872\n",
      "Epoch 24/30\n",
      "\u001b[1m363/363\u001b[0m \u001b[32m━━━━━━━━━━━━━━━━━━━━\u001b[0m\u001b[37m\u001b[0m \u001b[1m0s\u001b[0m 1ms/step - loss: 0.3816 - root_mean_squared_error: 0.6176 - val_loss: 0.4708 - val_root_mean_squared_error: 0.6861\n",
      "Epoch 25/30\n",
      "\u001b[1m363/363\u001b[0m \u001b[32m━━━━━━━━━━━━━━━━━━━━\u001b[0m\u001b[37m\u001b[0m \u001b[1m0s\u001b[0m 1ms/step - loss: 0.3865 - root_mean_squared_error: 0.6216 - val_loss: 0.4817 - val_root_mean_squared_error: 0.6940\n",
      "Epoch 26/30\n",
      "\u001b[1m363/363\u001b[0m \u001b[32m━━━━━━━━━━━━━━━━━━━━\u001b[0m\u001b[37m\u001b[0m \u001b[1m0s\u001b[0m 1ms/step - loss: 0.3661 - root_mean_squared_error: 0.6050 - val_loss: 0.5260 - val_root_mean_squared_error: 0.7252\n",
      "Epoch 27/30\n",
      "\u001b[1m363/363\u001b[0m \u001b[32m━━━━━━━━━━━━━━━━━━━━\u001b[0m\u001b[37m\u001b[0m \u001b[1m0s\u001b[0m 1ms/step - loss: 0.3698 - root_mean_squared_error: 0.6080 - val_loss: 0.3747 - val_root_mean_squared_error: 0.6121\n",
      "Epoch 28/30\n",
      "\u001b[1m363/363\u001b[0m \u001b[32m━━━━━━━━━━━━━━━━━━━━\u001b[0m\u001b[37m\u001b[0m \u001b[1m0s\u001b[0m 1ms/step - loss: 0.3838 - root_mean_squared_error: 0.6192 - val_loss: 0.4399 - val_root_mean_squared_error: 0.6632\n",
      "Epoch 29/30\n",
      "\u001b[1m363/363\u001b[0m \u001b[32m━━━━━━━━━━━━━━━━━━━━\u001b[0m\u001b[37m\u001b[0m \u001b[1m0s\u001b[0m 1ms/step - loss: 0.3761 - root_mean_squared_error: 0.6129 - val_loss: 0.4014 - val_root_mean_squared_error: 0.6336\n",
      "Epoch 30/30\n",
      "\u001b[1m363/363\u001b[0m \u001b[32m━━━━━━━━━━━━━━━━━━━━\u001b[0m\u001b[37m\u001b[0m \u001b[1m0s\u001b[0m 1ms/step - loss: 0.3493 - root_mean_squared_error: 0.5909 - val_loss: 0.3863 - val_root_mean_squared_error: 0.6215\n",
      "\u001b[1m162/162\u001b[0m \u001b[32m━━━━━━━━━━━━━━━━━━━━\u001b[0m\u001b[37m\u001b[0m \u001b[1m0s\u001b[0m 355us/step - loss: 0.3605 - root_mean_squared_error: 0.6004\n"
     ]
    },
    {
     "data": {
      "text/plain": [
       "[0.3592126667499542, 0.5993435382843018]"
      ]
     },
     "execution_count": 4,
     "metadata": {},
     "output_type": "execute_result"
    }
   ],
   "source": [
    "# functional APIs\n",
    "# wide and deep neural network\n",
    "\n",
    "# model layers\n",
    "normalization_layers = tf.keras.layers.Normalization()\n",
    "hidden_layers1 = tf.keras.layers.Dense(500, activation='relu')\n",
    "hidden_layers2 = tf.keras.layers.Dense(500, activation='relu')\n",
    "concat_layers =  tf.keras.layers.Concatenate()\n",
    "output_layer = tf.keras.layers.Dense(1)\n",
    "\n",
    "input_ = tf.keras.layers.Input(shape=X_train.shape[1:])\n",
    "normalized = normalization_layers(input_)\n",
    "hidden1 = hidden_layers1(normalized)\n",
    "hidden2 = hidden_layers2(hidden1)\n",
    "concat = concat_layers([normalized, hidden2])\n",
    "output = output_layer(concat)\n",
    "\n",
    "model = tf.keras.Model(inputs = [input_], outputs = [output])\n",
    "\n",
    "model.compile(loss=tf.keras.losses.MSE, optimizer= tf.keras.optimizers.Adam(learning_rate=1e-5),\n",
    "              metrics = [tf.keras.metrics.RootMeanSquaredError])\n",
    "\n",
    "normalization_layers.adapt(X_train)\n",
    "\n",
    "history = model.fit(X_train, y_train, epochs=30, validation_data=[X_valid, y_valid])\n",
    "\n",
    "model.evaluate(X_test, y_test)"
   ]
  },
  {
   "cell_type": "code",
   "execution_count": 81,
   "metadata": {},
   "outputs": [
    {
     "data": {
      "text/plain": [
       "<Axes: >"
      ]
     },
     "execution_count": 81,
     "metadata": {},
     "output_type": "execute_result"
    },
    {
     "data": {
      "image/png": "[encoded data removed]",
      "text/plain": [
       "<Figure size 800x500 with 1 Axes>"
      ]
     },
     "metadata": {},
     "output_type": "display_data"
    }
   ],
   "source": [
    "pd.DataFrame(history.history).plot(\n",
    "    figsize=[8,5], xlim=[0, 30], ylim=[0,1],\n",
    "    style=['r--', 'r--.', 'b-', 'b-*']\n",
    ")"
   ]
  },
  {
   "cell_type": "code",
   "execution_count": 5,
   "metadata": {},
   "outputs": [],
   "source": [
    "# splitting the input features between wide and deep\n",
    "\n",
    "input_wide = tf.keras.layers.Input(shape=[5])\n",
    "input_deep = tf.keras.layers.Input(shape=[6])\n",
    "normal_wide = tf.keras.layers.Normalization()\n",
    "normal_deep = tf.keras.layers.Normalization()\n",
    "hidden_layer1 = tf.keras.layers.Dense(20, activation='relu')\n",
    "hidden_layer2 = tf.keras.layers.Dense(20, activation='relu')\n",
    "concat_layer =tf.keras.layers.Concatenate()\n",
    "output_layer = tf.keras.layers.Dense(1)\n",
    "\n",
    "normalized_wide = normal_wide(input_wide)\n",
    "normalized_deep = normal_deep(input_deep)\n",
    "\n",
    "hidden1 = hidden_layer1(normalized_deep)\n",
    "hidden2 = hidden_layer2(hidden1)\n",
    "concat = concat_layer([normalized_deep, hidden2])\n",
    "output = output_layer(concat)\n",
    "model = tf.keras.Model(inputs = [input_wide, input_deep], outputs = [output])"
   ]
  },
  {
   "cell_type": "code",
   "execution_count": null,
   "metadata": {},
   "outputs": [],
   "source": [
    "optimizer = tf.keras.optimizers.Adam(learning_rate=1e-3)\n",
    "model.compile(loss='mse', optimizer=optimizer, metrics=['RootMeanSquaredError'])\n"
   ]
  },
  {
   "cell_type": "code",
   "execution_count": 3,
   "metadata": {},
   "outputs": [],
   "source": [
    "X_train_wide, X_train_deep = X_train[:, :5], X_train[:,2:]\n",
    "X_valid_wide, X_valid_deep = X_valid[:, :5], X_valid[:,2:]\n",
    "X_test_wide, X_test_deep = X_test[:, :5], X_test[:,2:]\n",
    "X_new_wide, X_new_deep = X_test_wide[:3], X_test_deep[:3]"
   ]
  },
  {
   "cell_type": "code",
   "execution_count": 7,
   "metadata": {},
   "outputs": [
    {
     "name": "stdout",
     "output_type": "stream",
     "text": [
      "Epoch 1/20\n",
      "\u001b[1m363/363\u001b[0m \u001b[32m━━━━━━━━━━━━━━━━━━━━\u001b[0m\u001b[37m\u001b[0m \u001b[1m0s\u001b[0m 653us/step - RootMeanSquaredError: 2.0062 - loss: 4.1706 - val_RootMeanSquaredError: 1.1569 - val_loss: 1.3385\n",
      "Epoch 2/20\n",
      "\u001b[1m363/363\u001b[0m \u001b[32m━━━━━━━━━━━━━━━━━━━━\u001b[0m\u001b[37m\u001b[0m \u001b[1m0s\u001b[0m 362us/step - RootMeanSquaredError: 0.8959 - loss: 0.8033 - val_RootMeanSquaredError: 0.8924 - val_loss: 0.7964\n",
      "Epoch 3/20\n",
      "\u001b[1m363/363\u001b[0m \u001b[32m━━━━━━━━━━━━━━━━━━━━\u001b[0m\u001b[37m\u001b[0m \u001b[1m0s\u001b[0m 363us/step - RootMeanSquaredError: 0.7796 - loss: 0.6080 - val_RootMeanSquaredError: 0.8000 - val_loss: 0.6400\n",
      "Epoch 4/20\n",
      "\u001b[1m363/363\u001b[0m \u001b[32m━━━━━━━━━━━━━━━━━━━━\u001b[0m\u001b[37m\u001b[0m \u001b[1m0s\u001b[0m 362us/step - RootMeanSquaredError: 0.7460 - loss: 0.5566 - val_RootMeanSquaredError: 0.8718 - val_loss: 0.7601\n",
      "Epoch 5/20\n",
      "\u001b[1m363/363\u001b[0m \u001b[32m━━━━━━━━━━━━━━━━━━━━\u001b[0m\u001b[37m\u001b[0m \u001b[1m0s\u001b[0m 362us/step - RootMeanSquaredError: 0.7363 - loss: 0.5424 - val_RootMeanSquaredError: 0.7702 - val_loss: 0.5931\n",
      "Epoch 6/20\n",
      "\u001b[1m363/363\u001b[0m \u001b[32m━━━━━━━━━━━━━━━━━━━━\u001b[0m\u001b[37m\u001b[0m \u001b[1m0s\u001b[0m 380us/step - RootMeanSquaredError: 0.7053 - loss: 0.4978 - val_RootMeanSquaredError: 0.8921 - val_loss: 0.7958\n",
      "Epoch 7/20\n",
      "\u001b[1m363/363\u001b[0m \u001b[32m━━━━━━━━━━━━━━━━━━━━\u001b[0m\u001b[37m\u001b[0m \u001b[1m0s\u001b[0m 369us/step - RootMeanSquaredError: 0.6894 - loss: 0.4755 - val_RootMeanSquaredError: 0.7159 - val_loss: 0.5125\n",
      "Epoch 8/20\n",
      "\u001b[1m363/363\u001b[0m \u001b[32m━━━━━━━━━━━━━━━━━━━━\u001b[0m\u001b[37m\u001b[0m \u001b[1m0s\u001b[0m 364us/step - RootMeanSquaredError: 0.6853 - loss: 0.4698 - val_RootMeanSquaredError: 0.9480 - val_loss: 0.8987\n",
      "Epoch 9/20\n",
      "\u001b[1m363/363\u001b[0m \u001b[32m━━━━━━━━━━━━━━━━━━━━\u001b[0m\u001b[37m\u001b[0m \u001b[1m0s\u001b[0m 364us/step - RootMeanSquaredError: 0.6904 - loss: 0.4772 - val_RootMeanSquaredError: 0.7893 - val_loss: 0.6231\n",
      "Epoch 10/20\n",
      "\u001b[1m363/363\u001b[0m \u001b[32m━━━━━━━━━━━━━━━━━━━━\u001b[0m\u001b[37m\u001b[0m \u001b[1m0s\u001b[0m 363us/step - RootMeanSquaredError: 0.6654 - loss: 0.4429 - val_RootMeanSquaredError: 0.6602 - val_loss: 0.4359\n",
      "Epoch 11/20\n",
      "\u001b[1m363/363\u001b[0m \u001b[32m━━━━━━━━━━━━━━━━━━━━\u001b[0m\u001b[37m\u001b[0m \u001b[1m0s\u001b[0m 364us/step - RootMeanSquaredError: 0.6520 - loss: 0.4252 - val_RootMeanSquaredError: 0.9023 - val_loss: 0.8142\n",
      "Epoch 12/20\n",
      "\u001b[1m363/363\u001b[0m \u001b[32m━━━━━━━━━━━━━━━━━━━━\u001b[0m\u001b[37m\u001b[0m \u001b[1m0s\u001b[0m 362us/step - RootMeanSquaredError: 0.6477 - loss: 0.4196 - val_RootMeanSquaredError: 0.7584 - val_loss: 0.5752\n",
      "Epoch 13/20\n",
      "\u001b[1m363/363\u001b[0m \u001b[32m━━━━━━━━━━━━━━━━━━━━\u001b[0m\u001b[37m\u001b[0m \u001b[1m0s\u001b[0m 360us/step - RootMeanSquaredError: 0.6412 - loss: 0.4115 - val_RootMeanSquaredError: 0.9842 - val_loss: 0.9686\n",
      "Epoch 14/20\n",
      "\u001b[1m363/363\u001b[0m \u001b[32m━━━━━━━━━━━━━━━━━━━━\u001b[0m\u001b[37m\u001b[0m \u001b[1m0s\u001b[0m 358us/step - RootMeanSquaredError: 0.6767 - loss: 0.4594 - val_RootMeanSquaredError: 0.6248 - val_loss: 0.3903\n",
      "Epoch 15/20\n",
      "\u001b[1m363/363\u001b[0m \u001b[32m━━━━━━━━━━━━━━━━━━━━\u001b[0m\u001b[37m\u001b[0m \u001b[1m0s\u001b[0m 365us/step - RootMeanSquaredError: 0.6346 - loss: 0.4029 - val_RootMeanSquaredError: 0.8771 - val_loss: 0.7693\n",
      "Epoch 16/20\n",
      "\u001b[1m363/363\u001b[0m \u001b[32m━━━━━━━━━━━━━━━━━━━━\u001b[0m\u001b[37m\u001b[0m \u001b[1m0s\u001b[0m 382us/step - RootMeanSquaredError: 0.6283 - loss: 0.3949 - val_RootMeanSquaredError: 0.6167 - val_loss: 0.3803\n",
      "Epoch 17/20\n",
      "\u001b[1m363/363\u001b[0m \u001b[32m━━━━━━━━━━━━━━━━━━━━\u001b[0m\u001b[37m\u001b[0m \u001b[1m0s\u001b[0m 360us/step - RootMeanSquaredError: 0.6387 - loss: 0.4083 - val_RootMeanSquaredError: 0.7998 - val_loss: 0.6396\n",
      "Epoch 18/20\n",
      "\u001b[1m363/363\u001b[0m \u001b[32m━━━━━━━━━━━━━━━━━━━━\u001b[0m\u001b[37m\u001b[0m \u001b[1m0s\u001b[0m 367us/step - RootMeanSquaredError: 0.6261 - loss: 0.3921 - val_RootMeanSquaredError: 0.6193 - val_loss: 0.3835\n",
      "Epoch 19/20\n",
      "\u001b[1m363/363\u001b[0m \u001b[32m━━━━━━━━━━━━━━━━━━━━\u001b[0m\u001b[37m\u001b[0m \u001b[1m0s\u001b[0m 364us/step - RootMeanSquaredError: 0.6272 - loss: 0.3936 - val_RootMeanSquaredError: 0.6461 - val_loss: 0.4174\n",
      "Epoch 20/20\n",
      "\u001b[1m363/363\u001b[0m \u001b[32m━━━━━━━━━━━━━━━━━━━━\u001b[0m\u001b[37m\u001b[0m \u001b[1m0s\u001b[0m 363us/step - RootMeanSquaredError: 0.6394 - loss: 0.4100 - val_RootMeanSquaredError: 0.7034 - val_loss: 0.4947\n",
      "\u001b[1m162/162\u001b[0m \u001b[32m━━━━━━━━━━━━━━━━━━━━\u001b[0m\u001b[37m\u001b[0m \u001b[1m0s\u001b[0m 237us/step - RootMeanSquaredError: 0.6226 - loss: 0.3877\n",
      "\u001b[1m1/1\u001b[0m \u001b[32m━━━━━━━━━━━━━━━━━━━━\u001b[0m\u001b[37m\u001b[0m \u001b[1m0s\u001b[0m 20ms/step\n",
      "[0.383243590593338, 0.6190667152404785]\n"
     ]
    }
   ],
   "source": [
    "normal_wide.adapt(X_train_wide)\n",
    "normal_deep.adapt(X_train_deep)\n",
    "\n",
    "history = model.fit((X_train_wide, X_train_deep), y_train,epochs=20,\n",
    "                    validation_data=((X_valid_wide, X_valid_deep), y_valid))\n",
    "mse_test = model.evaluate((X_test_wide, X_test_deep), y_test)\n",
    "y_pred = model.predict((X_new_wide, X_new_deep))\n",
    "print(mse_test)"
   ]
  },
  {
   "cell_type": "code",
   "execution_count": 19,
   "metadata": {},
   "outputs": [],
   "source": [
    "# auxilary layers output model\n",
    "\n",
    "input_wide = tf.keras.layers.Input(shape=[5])\n",
    "input_deep = tf.keras.layers.Input(shape=[6])\n",
    "norm_wide = tf.keras.layers.Normalization()\n",
    "norm_deep = tf.keras.layers.Normalization()\n",
    "\n",
    "norm_wide_layer = norm_wide(input_wide)\n",
    "norm_deep_layer = norm_deep(input_deep)\n",
    "\n",
    "hidden1 = tf.keras.layers.Dense(20, activation=\"relu\")(norm_deep_layer)\n",
    "hidden2 = tf.keras.layers.Dense(20, activation=\"relu\")(hidden1)\n",
    "\n",
    "concat = tf.keras.layers.concatenate([norm_wide_layer, hidden2])\n",
    "output = tf.keras.layers.Dense(1)(concat)\n",
    "aux_output = tf.keras.layers.Dense(1)(hidden2)\n",
    "model = tf.keras.Model(inputs = [input_wide, input_deep], \n",
    "                       outputs = [output, aux_output])\n",
    "\n",
    "optimizer = tf.keras.optimizers.Adam(learning_rate=1e-3)\n",
    "model.compile(loss=('mse', 'mse'), optimizer=optimizer, loss_weights=(0.9, 0.1),\n",
    "              metrics = ['RootMeanSquaredError','RootMeanSquaredError'])\n",
    "\n",
    "norm_wide.adapt(X_train_wide)\n",
    "norm_deep.adapt(X_train_deep)"
   ]
  },
  {
   "cell_type": "code",
   "execution_count": 20,
   "metadata": {},
   "outputs": [
    {
     "name": "stdout",
     "output_type": "stream",
     "text": [
      "Epoch 1/20\n",
      "\u001b[1m363/363\u001b[0m \u001b[32m━━━━━━━━━━━━━━━━━━━━\u001b[0m\u001b[37m\u001b[0m \u001b[1m1s\u001b[0m 675us/step - dense_28_RootMeanSquaredError: 2.3139 - dense_28_loss: 5.5597 - dense_29_RootMeanSquaredError: 2.0145 - dense_29_loss: 4.1433 - loss: 5.4180 - val_dense_28_RootMeanSquaredError: 0.9651 - val_dense_28_loss: 0.9313 - val_dense_29_RootMeanSquaredError: 1.3635 - val_dense_29_loss: 1.8585 - val_loss: 1.0243\n",
      "Epoch 2/20\n",
      "\u001b[1m363/363\u001b[0m \u001b[32m━━━━━━━━━━━━━━━━━━━━\u001b[0m\u001b[37m\u001b[0m \u001b[1m0s\u001b[0m 448us/step - dense_28_RootMeanSquaredError: 0.8823 - dense_28_loss: 0.7793 - dense_29_RootMeanSquaredError: 0.9136 - dense_29_loss: 0.8356 - loss: 0.7850 - val_dense_28_RootMeanSquaredError: 0.8080 - val_dense_28_loss: 0.6527 - val_dense_29_RootMeanSquaredError: 1.2100 - val_dense_29_loss: 1.4635 - val_loss: 0.7340\n",
      "Epoch 3/20\n",
      "\u001b[1m363/363\u001b[0m \u001b[32m━━━━━━━━━━━━━━━━━━━━\u001b[0m\u001b[37m\u001b[0m \u001b[1m0s\u001b[0m 442us/step - dense_28_RootMeanSquaredError: 0.7444 - dense_28_loss: 0.5542 - dense_29_RootMeanSquaredError: 0.7739 - dense_29_loss: 0.5991 - loss: 0.5587 - val_dense_28_RootMeanSquaredError: 0.9143 - val_dense_28_loss: 0.8356 - val_dense_29_RootMeanSquaredError: 1.1700 - val_dense_29_loss: 1.3684 - val_loss: 0.8892\n",
      "Epoch 4/20\n",
      "\u001b[1m363/363\u001b[0m \u001b[32m━━━━━━━━━━━━━━━━━━━━\u001b[0m\u001b[37m\u001b[0m \u001b[1m0s\u001b[0m 455us/step - dense_28_RootMeanSquaredError: 0.6999 - dense_28_loss: 0.4900 - dense_29_RootMeanSquaredError: 0.7458 - dense_29_loss: 0.5563 - loss: 0.4966 - val_dense_28_RootMeanSquaredError: 0.8324 - val_dense_28_loss: 0.6927 - val_dense_29_RootMeanSquaredError: 0.7260 - val_dense_29_loss: 0.5271 - val_loss: 0.6763\n",
      "Epoch 5/20\n",
      "\u001b[1m363/363\u001b[0m \u001b[32m━━━━━━━━━━━━━━━━━━━━\u001b[0m\u001b[37m\u001b[0m \u001b[1m0s\u001b[0m 458us/step - dense_28_RootMeanSquaredError: 0.6743 - dense_28_loss: 0.4549 - dense_29_RootMeanSquaredError: 0.7254 - dense_29_loss: 0.5264 - loss: 0.4620 - val_dense_28_RootMeanSquaredError: 1.4407 - val_dense_28_loss: 2.0747 - val_dense_29_RootMeanSquaredError: 1.4996 - val_dense_29_loss: 2.2478 - val_loss: 2.0929\n",
      "Epoch 6/20\n",
      "\u001b[1m363/363\u001b[0m \u001b[32m━━━━━━━━━━━━━━━━━━━━\u001b[0m\u001b[37m\u001b[0m \u001b[1m0s\u001b[0m 458us/step - dense_28_RootMeanSquaredError: 0.6528 - dense_28_loss: 0.4264 - dense_29_RootMeanSquaredError: 0.7239 - dense_29_loss: 0.5244 - loss: 0.4362 - val_dense_28_RootMeanSquaredError: 1.7183 - val_dense_28_loss: 2.9512 - val_dense_29_RootMeanSquaredError: 1.1839 - val_dense_29_loss: 1.4011 - val_loss: 2.7975\n",
      "Epoch 7/20\n",
      "\u001b[1m363/363\u001b[0m \u001b[32m━━━━━━━━━━━━━━━━━━━━\u001b[0m\u001b[37m\u001b[0m \u001b[1m0s\u001b[0m 453us/step - dense_28_RootMeanSquaredError: 0.6814 - dense_28_loss: 0.4664 - dense_29_RootMeanSquaredError: 0.7316 - dense_29_loss: 0.5358 - loss: 0.4734 - val_dense_28_RootMeanSquaredError: 1.0276 - val_dense_28_loss: 1.0556 - val_dense_29_RootMeanSquaredError: 1.0213 - val_dense_29_loss: 1.0427 - val_loss: 1.0547\n",
      "Epoch 8/20\n",
      "\u001b[1m363/363\u001b[0m \u001b[32m━━━━━━━━━━━━━━━━━━━━\u001b[0m\u001b[37m\u001b[0m \u001b[1m0s\u001b[0m 443us/step - dense_28_RootMeanSquaredError: 0.6153 - dense_28_loss: 0.3787 - dense_29_RootMeanSquaredError: 0.6921 - dense_29_loss: 0.4793 - loss: 0.3888 - val_dense_28_RootMeanSquaredError: 0.6682 - val_dense_28_loss: 0.4463 - val_dense_29_RootMeanSquaredError: 0.6844 - val_dense_29_loss: 0.4683 - val_loss: 0.4486\n",
      "Epoch 9/20\n",
      "\u001b[1m363/363\u001b[0m \u001b[32m━━━━━━━━━━━━━━━━━━━━\u001b[0m\u001b[37m\u001b[0m \u001b[1m0s\u001b[0m 441us/step - dense_28_RootMeanSquaredError: 0.6177 - dense_28_loss: 0.3818 - dense_29_RootMeanSquaredError: 0.6956 - dense_29_loss: 0.4841 - loss: 0.3920 - val_dense_28_RootMeanSquaredError: 0.7295 - val_dense_28_loss: 0.5319 - val_dense_29_RootMeanSquaredError: 0.8524 - val_dense_29_loss: 0.7265 - val_loss: 0.5516\n",
      "Epoch 10/20\n",
      "\u001b[1m363/363\u001b[0m \u001b[32m━━━━━━━━━━━━━━━━━━━━\u001b[0m\u001b[37m\u001b[0m \u001b[1m0s\u001b[0m 445us/step - dense_28_RootMeanSquaredError: 0.6069 - dense_28_loss: 0.3684 - dense_29_RootMeanSquaredError: 0.6883 - dense_29_loss: 0.4740 - loss: 0.3790 - val_dense_28_RootMeanSquaredError: 0.7241 - val_dense_28_loss: 0.5242 - val_dense_29_RootMeanSquaredError: 0.6785 - val_dense_29_loss: 0.4603 - val_loss: 0.5179\n",
      "Epoch 11/20\n",
      "\u001b[1m363/363\u001b[0m \u001b[32m━━━━━━━━━━━━━━━━━━━━\u001b[0m\u001b[37m\u001b[0m \u001b[1m0s\u001b[0m 444us/step - dense_28_RootMeanSquaredError: 0.6074 - dense_28_loss: 0.3691 - dense_29_RootMeanSquaredError: 0.6851 - dense_29_loss: 0.4696 - loss: 0.3792 - val_dense_28_RootMeanSquaredError: 0.8777 - val_dense_28_loss: 0.7701 - val_dense_29_RootMeanSquaredError: 1.0037 - val_dense_29_loss: 1.0070 - val_loss: 0.7941\n",
      "Epoch 12/20\n",
      "\u001b[1m363/363\u001b[0m \u001b[32m━━━━━━━━━━━━━━━━━━━━\u001b[0m\u001b[37m\u001b[0m \u001b[1m0s\u001b[0m 457us/step - dense_28_RootMeanSquaredError: 0.5988 - dense_28_loss: 0.3587 - dense_29_RootMeanSquaredError: 0.6709 - dense_29_loss: 0.4502 - loss: 0.3679 - val_dense_28_RootMeanSquaredError: 0.9224 - val_dense_28_loss: 0.8504 - val_dense_29_RootMeanSquaredError: 0.7372 - val_dense_29_loss: 0.5434 - val_loss: 0.8200\n",
      "Epoch 13/20\n",
      "\u001b[1m363/363\u001b[0m \u001b[32m━━━━━━━━━━━━━━━━━━━━\u001b[0m\u001b[37m\u001b[0m \u001b[1m0s\u001b[0m 453us/step - dense_28_RootMeanSquaredError: 0.6050 - dense_28_loss: 0.3667 - dense_29_RootMeanSquaredError: 0.6714 - dense_29_loss: 0.4510 - loss: 0.3751 - val_dense_28_RootMeanSquaredError: 1.0030 - val_dense_28_loss: 1.0055 - val_dense_29_RootMeanSquaredError: 1.0949 - val_dense_29_loss: 1.1984 - val_loss: 1.0253\n",
      "Epoch 14/20\n",
      "\u001b[1m363/363\u001b[0m \u001b[32m━━━━━━━━━━━━━━━━━━━━\u001b[0m\u001b[37m\u001b[0m \u001b[1m0s\u001b[0m 451us/step - dense_28_RootMeanSquaredError: 0.5971 - dense_28_loss: 0.3566 - dense_29_RootMeanSquaredError: 0.6579 - dense_29_loss: 0.4331 - loss: 0.3643 - val_dense_28_RootMeanSquaredError: 0.9785 - val_dense_28_loss: 0.9571 - val_dense_29_RootMeanSquaredError: 0.7116 - val_dense_29_loss: 0.5063 - val_loss: 0.9124\n",
      "Epoch 15/20\n",
      "\u001b[1m363/363\u001b[0m \u001b[32m━━━━━━━━━━━━━━━━━━━━\u001b[0m\u001b[37m\u001b[0m \u001b[1m0s\u001b[0m 457us/step - dense_28_RootMeanSquaredError: 0.6088 - dense_28_loss: 0.3709 - dense_29_RootMeanSquaredError: 0.6717 - dense_29_loss: 0.4514 - loss: 0.3790 - val_dense_28_RootMeanSquaredError: 1.0036 - val_dense_28_loss: 1.0068 - val_dense_29_RootMeanSquaredError: 1.2294 - val_dense_29_loss: 1.5109 - val_loss: 1.0577\n",
      "Epoch 16/20\n",
      "\u001b[1m363/363\u001b[0m \u001b[32m━━━━━━━━━━━━━━━━━━━━\u001b[0m\u001b[37m\u001b[0m \u001b[1m0s\u001b[0m 468us/step - dense_28_RootMeanSquaredError: 0.5928 - dense_28_loss: 0.3516 - dense_29_RootMeanSquaredError: 0.6629 - dense_29_loss: 0.4396 - loss: 0.3604 - val_dense_28_RootMeanSquaredError: 0.6212 - val_dense_28_loss: 0.3858 - val_dense_29_RootMeanSquaredError: 0.8672 - val_dense_29_loss: 0.7518 - val_loss: 0.4225\n",
      "Epoch 17/20\n",
      "\u001b[1m363/363\u001b[0m \u001b[32m━━━━━━━━━━━━━━━━━━━━\u001b[0m\u001b[37m\u001b[0m \u001b[1m0s\u001b[0m 448us/step - dense_28_RootMeanSquaredError: 0.6011 - dense_28_loss: 0.3615 - dense_29_RootMeanSquaredError: 0.6594 - dense_29_loss: 0.4349 - loss: 0.3688 - val_dense_28_RootMeanSquaredError: 1.1210 - val_dense_28_loss: 1.2560 - val_dense_29_RootMeanSquaredError: 1.1829 - val_dense_29_loss: 1.3988 - val_loss: 1.2709\n",
      "Epoch 18/20\n",
      "\u001b[1m363/363\u001b[0m \u001b[32m━━━━━━━━━━━━━━━━━━━━\u001b[0m\u001b[37m\u001b[0m \u001b[1m0s\u001b[0m 496us/step - dense_28_RootMeanSquaredError: 0.6018 - dense_28_loss: 0.3627 - dense_29_RootMeanSquaredError: 0.6678 - dense_29_loss: 0.4463 - loss: 0.3710 - val_dense_28_RootMeanSquaredError: 0.7822 - val_dense_28_loss: 0.6116 - val_dense_29_RootMeanSquaredError: 0.6798 - val_dense_29_loss: 0.4621 - val_loss: 0.5968\n",
      "Epoch 19/20\n",
      "\u001b[1m363/363\u001b[0m \u001b[32m━━━━━━━━━━━━━━━━━━━━\u001b[0m\u001b[37m\u001b[0m \u001b[1m0s\u001b[0m 444us/step - dense_28_RootMeanSquaredError: 0.5951 - dense_28_loss: 0.3545 - dense_29_RootMeanSquaredError: 0.6525 - dense_29_loss: 0.4261 - loss: 0.3616 - val_dense_28_RootMeanSquaredError: 0.5821 - val_dense_28_loss: 0.3387 - val_dense_29_RootMeanSquaredError: 0.7310 - val_dense_29_loss: 0.5343 - val_loss: 0.3583\n",
      "Epoch 20/20\n",
      "\u001b[1m363/363\u001b[0m \u001b[32m━━━━━━━━━━━━━━━━━━━━\u001b[0m\u001b[37m\u001b[0m \u001b[1m0s\u001b[0m 438us/step - dense_28_RootMeanSquaredError: 0.5873 - dense_28_loss: 0.3451 - dense_29_RootMeanSquaredError: 0.6494 - dense_29_loss: 0.4220 - loss: 0.3528 - val_dense_28_RootMeanSquaredError: 0.5695 - val_dense_28_loss: 0.3243 - val_dense_29_RootMeanSquaredError: 0.6763 - val_dense_29_loss: 0.4573 - val_loss: 0.3377\n"
     ]
    }
   ],
   "source": [
    "history = model.fit((X_train_wide, X_train_deep), (y_train, y_train),\n",
    "                    epochs=20, validation_data= ((X_valid_wide, X_valid_deep), (y_valid, y_valid)))"
   ]
  },
  {
   "cell_type": "code",
   "execution_count": 22,
   "metadata": {},
   "outputs": [
    {
     "name": "stdout",
     "output_type": "stream",
     "text": [
      "\u001b[1m162/162\u001b[0m \u001b[32m━━━━━━━━━━━━━━━━━━━━\u001b[0m\u001b[37m\u001b[0m \u001b[1m0s\u001b[0m 325us/step - dense_28_RootMeanSquaredError: 0.5861 - dense_28_loss: 0.3435 - dense_29_RootMeanSquaredError: 0.6444 - dense_29_loss: 0.4154 - loss: 0.3507\n",
      "{'dense_28_RootMeanSquaredError': 0.5870016813278198, 'dense_28_loss': 0.3445166349411011, 'dense_29_RootMeanSquaredError': 0.6425354480743408, 'dense_29_loss': 0.4137413501739502, 'loss': 0.3513992130756378}\n"
     ]
    }
   ],
   "source": [
    "eval_results = model.evaluate((X_test_wide, X_test_deep),(y_test, y_test), return_dict=True)\n",
    "# weighted_sum_of_losses, main_loss, aux_loss, main_rmse, aux_rmse = eval_results\n",
    "print(eval_results)"
   ]
  },
  {
   "cell_type": "code",
   "execution_count": 23,
   "metadata": {},
   "outputs": [
    {
     "name": "stdout",
     "output_type": "stream",
     "text": [
      "\u001b[1m1/1\u001b[0m \u001b[32m━━━━━━━━━━━━━━━━━━━━\u001b[0m\u001b[37m\u001b[0m \u001b[1m0s\u001b[0m 27ms/step\n",
      "\u001b[1m1/1\u001b[0m \u001b[32m━━━━━━━━━━━━━━━━━━━━\u001b[0m\u001b[37m\u001b[0m \u001b[1m0s\u001b[0m 12ms/step\n",
      "{'dense_28': array([[0.37133867],\n",
      "       [1.6369907 ],\n",
      "       [3.3881972 ]], dtype=float32), 'dense_29': array([[0.6929004],\n",
      "       [1.6245914],\n",
      "       [2.8902411]], dtype=float32)}\n"
     ]
    }
   ],
   "source": [
    "y_pred_main, y_pred_aux = model.predict((X_new_wide, X_new_deep))\n",
    "y_pred_tuple = model.predict((X_new_wide, X_new_deep))\n",
    "y_pred = dict(zip(model.output_names, y_pred_tuple))\n",
    "print(y_pred)"
   ]
  },
  {
   "cell_type": "code",
   "execution_count": 4,
   "metadata": {},
   "outputs": [
    {
     "name": "stdout",
     "output_type": "stream",
     "text": [
      "Epoch 1/30\n",
      "\u001b[1m363/363\u001b[0m \u001b[32m━━━━━━━━━━━━━━━━━━━━\u001b[0m\u001b[37m\u001b[0m \u001b[1m1s\u001b[0m 657us/step - RootMeanSquaredError: 1.2058 - RootMeanSquaredError_1: 1.7710 - loss: 1.7153 - mse_loss: 3.2798 - val_RootMeanSquaredError: 0.9668 - val_RootMeanSquaredError_1: 1.0117 - val_loss: 0.9436 - val_mse_loss: 1.0233\n",
      "Epoch 2/30\n",
      "\u001b[1m363/363\u001b[0m \u001b[32m━━━━━━━━━━━━━━━━━━━━\u001b[0m\u001b[37m\u001b[0m \u001b[1m0s\u001b[0m 435us/step - RootMeanSquaredError: 0.6487 - RootMeanSquaredError_1: 0.7881 - loss: 0.4410 - mse_loss: 0.6213 - val_RootMeanSquaredError: 0.6164 - val_RootMeanSquaredError_1: 0.7633 - val_loss: 0.4002 - val_mse_loss: 0.5825\n",
      "Epoch 3/30\n",
      "\u001b[1m363/363\u001b[0m \u001b[32m━━━━━━━━━━━━━━━━━━━━\u001b[0m\u001b[37m\u001b[0m \u001b[1m0s\u001b[0m 425us/step - RootMeanSquaredError: 0.6279 - RootMeanSquaredError_1: 0.7376 - loss: 0.4094 - mse_loss: 0.5442 - val_RootMeanSquaredError: 1.2072 - val_RootMeanSquaredError_1: 0.8328 - val_loss: 1.3809 - val_mse_loss: 0.6933\n",
      "Epoch 4/30\n",
      "\u001b[1m363/363\u001b[0m \u001b[32m━━━━━━━━━━━━━━━━━━━━\u001b[0m\u001b[37m\u001b[0m \u001b[1m0s\u001b[0m 423us/step - RootMeanSquaredError: 0.6347 - RootMeanSquaredError_1: 0.7425 - loss: 0.4179 - mse_loss: 0.5518 - val_RootMeanSquaredError: 1.6390 - val_RootMeanSquaredError_1: 0.8723 - val_loss: 2.4937 - val_mse_loss: 0.7607\n",
      "Epoch 5/30\n",
      "\u001b[1m363/363\u001b[0m \u001b[32m━━━━━━━━━━━━━━━━━━━━\u001b[0m\u001b[37m\u001b[0m \u001b[1m0s\u001b[0m 483us/step - RootMeanSquaredError: 0.6289 - RootMeanSquaredError_1: 0.7087 - loss: 0.4064 - mse_loss: 0.5028 - val_RootMeanSquaredError: 1.6321 - val_RootMeanSquaredError_1: 0.9196 - val_loss: 2.4821 - val_mse_loss: 0.8454\n",
      "Epoch 6/30\n",
      "\u001b[1m363/363\u001b[0m \u001b[32m━━━━━━━━━━━━━━━━━━━━\u001b[0m\u001b[37m\u001b[0m \u001b[1m0s\u001b[0m 447us/step - RootMeanSquaredError: 0.6239 - RootMeanSquaredError_1: 0.6657 - loss: 0.3948 - mse_loss: 0.4433 - val_RootMeanSquaredError: 1.0652 - val_RootMeanSquaredError_1: 1.0330 - val_loss: 1.1278 - val_mse_loss: 1.0666\n",
      "Epoch 7/30\n",
      "\u001b[1m363/363\u001b[0m \u001b[32m━━━━━━━━━━━━━━━━━━━━\u001b[0m\u001b[37m\u001b[0m \u001b[1m0s\u001b[0m 431us/step - RootMeanSquaredError: 0.5927 - RootMeanSquaredError_1: 0.6503 - loss: 0.3586 - mse_loss: 0.4231 - val_RootMeanSquaredError: 1.2252 - val_RootMeanSquaredError_1: 1.8561 - val_loss: 1.6955 - val_mse_loss: 3.4434\n",
      "Epoch 8/30\n",
      "\u001b[1m363/363\u001b[0m \u001b[32m━━━━━━━━━━━━━━━━━━━━\u001b[0m\u001b[37m\u001b[0m \u001b[1m0s\u001b[0m 435us/step - RootMeanSquaredError: 0.5886 - RootMeanSquaredError_1: 0.6448 - loss: 0.3537 - mse_loss: 0.4161 - val_RootMeanSquaredError: 1.1706 - val_RootMeanSquaredError_1: 1.2598 - val_loss: 1.3920 - val_mse_loss: 1.5864\n",
      "Epoch 9/30\n",
      "\u001b[1m363/363\u001b[0m \u001b[32m━━━━━━━━━━━━━━━━━━━━\u001b[0m\u001b[37m\u001b[0m \u001b[1m0s\u001b[0m 432us/step - RootMeanSquaredError: 0.5757 - RootMeanSquaredError_1: 0.6328 - loss: 0.3387 - mse_loss: 0.4009 - val_RootMeanSquaredError: 0.9399 - val_RootMeanSquaredError_1: 1.0464 - val_loss: 0.9045 - val_mse_loss: 1.0945\n",
      "Epoch 10/30\n",
      "\u001b[1m363/363\u001b[0m \u001b[32m━━━━━━━━━━━━━━━━━━━━\u001b[0m\u001b[37m\u001b[0m \u001b[1m0s\u001b[0m 432us/step - RootMeanSquaredError: 0.5809 - RootMeanSquaredError_1: 0.6329 - loss: 0.3438 - mse_loss: 0.4007 - val_RootMeanSquaredError: 0.6498 - val_RootMeanSquaredError_1: 0.6510 - val_loss: 0.4225 - val_mse_loss: 0.4238\n",
      "Epoch 11/30\n",
      "\u001b[1m363/363\u001b[0m \u001b[32m━━━━━━━━━━━━━━━━━━━━\u001b[0m\u001b[37m\u001b[0m \u001b[1m0s\u001b[0m 431us/step - RootMeanSquaredError: 0.5940 - RootMeanSquaredError_1: 0.6471 - loss: 0.3597 - mse_loss: 0.4195 - val_RootMeanSquaredError: 0.9022 - val_RootMeanSquaredError_1: 1.0904 - val_loss: 0.8515 - val_mse_loss: 1.1886\n",
      "Epoch 12/30\n",
      "\u001b[1m363/363\u001b[0m \u001b[32m━━━━━━━━━━━━━━━━━━━━\u001b[0m\u001b[37m\u001b[0m \u001b[1m0s\u001b[0m 425us/step - RootMeanSquaredError: 0.5893 - RootMeanSquaredError_1: 0.6346 - loss: 0.3531 - mse_loss: 0.4030 - val_RootMeanSquaredError: 0.9080 - val_RootMeanSquaredError_1: 0.7306 - val_loss: 0.7954 - val_mse_loss: 0.5336\n",
      "Epoch 13/30\n",
      "\u001b[1m363/363\u001b[0m \u001b[32m━━━━━━━━━━━━━━━━━━━━\u001b[0m\u001b[37m\u001b[0m \u001b[1m0s\u001b[0m 427us/step - RootMeanSquaredError: 0.5859 - RootMeanSquaredError_1: 0.6327 - loss: 0.3496 - mse_loss: 0.4006 - val_RootMeanSquaredError: 0.9234 - val_RootMeanSquaredError_1: 1.1610 - val_loss: 0.9022 - val_mse_loss: 1.3474\n",
      "Epoch 14/30\n",
      "\u001b[1m363/363\u001b[0m \u001b[32m━━━━━━━━━━━━━━━━━━━━\u001b[0m\u001b[37m\u001b[0m \u001b[1m0s\u001b[0m 484us/step - RootMeanSquaredError: 0.5679 - RootMeanSquaredError_1: 0.6145 - loss: 0.3281 - mse_loss: 0.3777 - val_RootMeanSquaredError: 0.6709 - val_RootMeanSquaredError_1: 0.6830 - val_loss: 0.4517 - val_mse_loss: 0.4664\n",
      "Epoch 15/30\n",
      "\u001b[1m363/363\u001b[0m \u001b[32m━━━━━━━━━━━━━━━━━━━━\u001b[0m\u001b[37m\u001b[0m \u001b[1m0s\u001b[0m 430us/step - RootMeanSquaredError: 0.5666 - RootMeanSquaredError_1: 0.6125 - loss: 0.3268 - mse_loss: 0.3754 - val_RootMeanSquaredError: 0.5945 - val_RootMeanSquaredError_1: 0.6708 - val_loss: 0.3631 - val_mse_loss: 0.4498\n",
      "Epoch 16/30\n",
      "\u001b[1m363/363\u001b[0m \u001b[32m━━━━━━━━━━━━━━━━━━━━\u001b[0m\u001b[37m\u001b[0m \u001b[1m0s\u001b[0m 429us/step - RootMeanSquaredError: 0.5551 - RootMeanSquaredError_1: 0.6042 - loss: 0.3143 - mse_loss: 0.3655 - val_RootMeanSquaredError: 0.5824 - val_RootMeanSquaredError_1: 0.6317 - val_loss: 0.3452 - val_mse_loss: 0.3990\n",
      "Epoch 17/30\n",
      "\u001b[1m363/363\u001b[0m \u001b[32m━━━━━━━━━━━━━━━━━━━━\u001b[0m\u001b[37m\u001b[0m \u001b[1m0s\u001b[0m 442us/step - RootMeanSquaredError: 0.5720 - RootMeanSquaredError_1: 0.6174 - loss: 0.3330 - mse_loss: 0.3817 - val_RootMeanSquaredError: 0.5715 - val_RootMeanSquaredError_1: 0.6510 - val_loss: 0.3363 - val_mse_loss: 0.4237\n",
      "Epoch 18/30\n",
      "\u001b[1m363/363\u001b[0m \u001b[32m━━━━━━━━━━━━━━━━━━━━\u001b[0m\u001b[37m\u001b[0m \u001b[1m0s\u001b[0m 443us/step - RootMeanSquaredError: 0.5648 - RootMeanSquaredError_1: 0.6119 - loss: 0.3246 - mse_loss: 0.3744 - val_RootMeanSquaredError: 0.5516 - val_RootMeanSquaredError_1: 0.6296 - val_loss: 0.3135 - val_mse_loss: 0.3964\n",
      "Epoch 19/30\n",
      "\u001b[1m363/363\u001b[0m \u001b[32m━━━━━━━━━━━━━━━━━━━━\u001b[0m\u001b[37m\u001b[0m \u001b[1m0s\u001b[0m 434us/step - RootMeanSquaredError: 0.5685 - RootMeanSquaredError_1: 0.6148 - loss: 0.3288 - mse_loss: 0.3781 - val_RootMeanSquaredError: 0.5806 - val_RootMeanSquaredError_1: 0.6558 - val_loss: 0.3464 - val_mse_loss: 0.4301\n",
      "Epoch 20/30\n",
      "\u001b[1m363/363\u001b[0m \u001b[32m━━━━━━━━━━━━━━━━━━━━\u001b[0m\u001b[37m\u001b[0m \u001b[1m0s\u001b[0m 431us/step - RootMeanSquaredError: 0.5614 - RootMeanSquaredError_1: 0.6071 - loss: 0.3207 - mse_loss: 0.3689 - val_RootMeanSquaredError: 0.5479 - val_RootMeanSquaredError_1: 0.6154 - val_loss: 0.3081 - val_mse_loss: 0.3787\n",
      "Epoch 21/30\n",
      "\u001b[1m363/363\u001b[0m \u001b[32m━━━━━━━━━━━━━━━━━━━━\u001b[0m\u001b[37m\u001b[0m \u001b[1m0s\u001b[0m 433us/step - RootMeanSquaredError: 0.5566 - RootMeanSquaredError_1: 0.6013 - loss: 0.3152 - mse_loss: 0.3618 - val_RootMeanSquaredError: 0.6507 - val_RootMeanSquaredError_1: 0.7549 - val_loss: 0.4380 - val_mse_loss: 0.5697\n",
      "Epoch 22/30\n",
      "\u001b[1m363/363\u001b[0m \u001b[32m━━━━━━━━━━━━━━━━━━━━\u001b[0m\u001b[37m\u001b[0m \u001b[1m0s\u001b[0m 432us/step - RootMeanSquaredError: 0.5706 - RootMeanSquaredError_1: 0.6168 - loss: 0.3314 - mse_loss: 0.3810 - val_RootMeanSquaredError: 0.5410 - val_RootMeanSquaredError_1: 0.6504 - val_loss: 0.3057 - val_mse_loss: 0.4229\n",
      "Epoch 23/30\n",
      "\u001b[1m363/363\u001b[0m \u001b[32m━━━━━━━━━━━━━━━━━━━━\u001b[0m\u001b[37m\u001b[0m \u001b[1m0s\u001b[0m 420us/step - RootMeanSquaredError: 0.5583 - RootMeanSquaredError_1: 0.5994 - loss: 0.3168 - mse_loss: 0.3595 - val_RootMeanSquaredError: 0.6502 - val_RootMeanSquaredError_1: 0.6032 - val_loss: 0.4169 - val_mse_loss: 0.3638\n",
      "Epoch 24/30\n",
      "\u001b[1m363/363\u001b[0m \u001b[32m━━━━━━━━━━━━━━━━━━━━\u001b[0m\u001b[37m\u001b[0m \u001b[1m0s\u001b[0m 425us/step - RootMeanSquaredError: 0.5575 - RootMeanSquaredError_1: 0.5992 - loss: 0.3157 - mse_loss: 0.3593 - val_RootMeanSquaredError: 1.1801 - val_RootMeanSquaredError_1: 1.3724 - val_loss: 1.4416 - val_mse_loss: 1.8827\n",
      "Epoch 25/30\n",
      "\u001b[1m363/363\u001b[0m \u001b[32m━━━━━━━━━━━━━━━━━━━━\u001b[0m\u001b[37m\u001b[0m \u001b[1m0s\u001b[0m 425us/step - RootMeanSquaredError: 0.5793 - RootMeanSquaredError_1: 0.6215 - loss: 0.3410 - mse_loss: 0.3868 - val_RootMeanSquaredError: 0.5807 - val_RootMeanSquaredError_1: 0.6317 - val_loss: 0.3434 - val_mse_loss: 0.3991\n",
      "Epoch 26/30\n",
      "\u001b[1m363/363\u001b[0m \u001b[32m━━━━━━━━━━━━━━━━━━━━\u001b[0m\u001b[37m\u001b[0m \u001b[1m0s\u001b[0m 426us/step - RootMeanSquaredError: 0.5534 - RootMeanSquaredError_1: 0.5982 - loss: 0.3115 - mse_loss: 0.3580 - val_RootMeanSquaredError: 0.5520 - val_RootMeanSquaredError_1: 0.6044 - val_loss: 0.3107 - val_mse_loss: 0.3652\n",
      "Epoch 27/30\n",
      "\u001b[1m363/363\u001b[0m \u001b[32m━━━━━━━━━━━━━━━━━━━━\u001b[0m\u001b[37m\u001b[0m \u001b[1m0s\u001b[0m 429us/step - RootMeanSquaredError: 0.5459 - RootMeanSquaredError_1: 0.5894 - loss: 0.3032 - mse_loss: 0.3479 - val_RootMeanSquaredError: 0.5403 - val_RootMeanSquaredError_1: 0.5860 - val_loss: 0.2971 - val_mse_loss: 0.3433\n",
      "Epoch 28/30\n",
      "\u001b[1m363/363\u001b[0m \u001b[32m━━━━━━━━━━━━━━━━━━━━\u001b[0m\u001b[37m\u001b[0m \u001b[1m0s\u001b[0m 423us/step - RootMeanSquaredError: 0.5493 - RootMeanSquaredError_1: 0.5899 - loss: 0.3064 - mse_loss: 0.3481 - val_RootMeanSquaredError: 0.5416 - val_RootMeanSquaredError_1: 0.5906 - val_loss: 0.2989 - val_mse_loss: 0.3487\n",
      "Epoch 29/30\n",
      "\u001b[1m363/363\u001b[0m \u001b[32m━━━━━━━━━━━━━━━━━━━━\u001b[0m\u001b[37m\u001b[0m \u001b[1m0s\u001b[0m 425us/step - RootMeanSquaredError: 0.5455 - RootMeanSquaredError_1: 0.5906 - loss: 0.3030 - mse_loss: 0.3490 - val_RootMeanSquaredError: 0.5677 - val_RootMeanSquaredError_1: 0.6244 - val_loss: 0.3290 - val_mse_loss: 0.3899\n",
      "Epoch 30/30\n",
      "\u001b[1m363/363\u001b[0m \u001b[32m━━━━━━━━━━━━━━━━━━━━\u001b[0m\u001b[37m\u001b[0m \u001b[1m0s\u001b[0m 428us/step - RootMeanSquaredError: 0.5513 - RootMeanSquaredError_1: 0.5906 - loss: 0.3085 - mse_loss: 0.3489 - val_RootMeanSquaredError: 0.5503 - val_RootMeanSquaredError_1: 0.5989 - val_loss: 0.3084 - val_mse_loss: 0.3586\n",
      "\u001b[1m162/162\u001b[0m \u001b[32m━━━━━━━━━━━━━━━━━━━━\u001b[0m\u001b[37m\u001b[0m \u001b[1m0s\u001b[0m 274us/step - RootMeanSquaredError: 0.5524 - RootMeanSquaredError_1: 0.5991 - loss: 0.3108 - mse_loss: 0.3591\n",
      "{'RootMeanSquaredError': 0.5545727610588074, 'RootMeanSquaredError_1': 0.5990292429924011, 'loss': 0.3126794993877411, 'mse_loss': 0.3590678572654724}\n"
     ]
    }
   ],
   "source": [
    "# Subclassing API to Build Dynamic Models\n",
    "@tf.keras.utils.register_keras_serializable()\n",
    "class WideAndDeepModel(tf.keras.Model):\n",
    "    def __init__(self, units = 30, activation = 'relu', **kwargs):\n",
    "        super().__init__(**kwargs) #needed to support naming the model\n",
    "        self.norm_layer_wide = tf.keras.layers.Normalization()\n",
    "        self.norm_layer_deep = tf.keras.layers.Normalization()\n",
    "        self.hidden1 = tf.keras.layers.Dense(units, activation=activation)\n",
    "        self.hidden2 = tf.keras.layers.Dense(units, activation=activation)\n",
    "        self.main_output = tf.keras.layers.Dense(1)\n",
    "        self.aux_output = tf.keras.layers.Dense(1)\n",
    "        \n",
    "    def call(self, inputs):\n",
    "        input_wide, input_deep = inputs\n",
    "        norm_wide = self.norm_layer_wide(input_wide)\n",
    "        norm_deep = self.norm_layer_deep(input_deep)\n",
    "        hidden1 = self.hidden1(norm_deep)\n",
    "        hidden2 = self.hidden2(hidden1)\n",
    "        concat = tf.keras.layers.concatenate([norm_wide, hidden2])\n",
    "        output = self.main_output(concat)\n",
    "        aux_output = self.aux_output(hidden2)\n",
    "        return output, aux_output\n",
    "    \n",
    "model = WideAndDeepModel(30, activation='relu', name = 'my_cool_model')\n",
    "\n",
    "model.norm_layer_wide.adapt(X_train_wide)\n",
    "model.norm_layer_deep.adapt(X_train_deep)\n",
    "\n",
    "optimizer = tf.keras.optimizers.Adam(learning_rate = 2e-3)\n",
    "\n",
    "model.compile(loss=('mse', 'mse'), optimizer = optimizer, loss_weights=(0.9, 0.1),\n",
    "              metrics = ['RootMeanSquaredError', 'RootMeanSquaredError'])\n",
    "\n",
    "history = model.fit((X_train_wide, X_train_deep), (y_train, y_train), epochs=30,\n",
    "          validation_data = ((X_valid_wide, X_valid_deep), (y_valid, y_valid)))\n",
    "\n",
    "model_mse = model.evaluate((X_test_wide, X_test_deep), (y_test, y_test), return_dict=True)\n",
    "print(model_mse)"
   ]
  },
  {
   "cell_type": "code",
   "execution_count": 32,
   "metadata": {},
   "outputs": [],
   "source": [
    "model.save('my_keras_model.keras')\n"
   ]
  },
  {
   "cell_type": "code",
   "execution_count": 35,
   "metadata": {},
   "outputs": [
    {
     "name": "stdout",
     "output_type": "stream",
     "text": [
      "\u001b[1m1/1\u001b[0m \u001b[32m━━━━━━━━━━━━━━━━━━━━\u001b[0m\u001b[37m\u001b[0m \u001b[1m0s\u001b[0m 26ms/step\n"
     ]
    }
   ],
   "source": [
    "model = tf.keras.models.load_model('my_keras_model.keras')\n",
    "y_pred, y_pred_aux = model.predict((X_new_wide, X_new_deep))"
   ]
  },
  {
   "cell_type": "code",
   "execution_count": 5,
   "metadata": {},
   "outputs": [
    {
     "name": "stdout",
     "output_type": "stream",
     "text": [
      "Epoch 1/10\n",
      "\u001b[1m363/363\u001b[0m \u001b[32m━━━━━━━━━━━━━━━━━━━━\u001b[0m\u001b[37m\u001b[0m \u001b[1m0s\u001b[0m 499us/step - RootMeanSquaredError: 0.5520 - RootMeanSquaredError_1: 0.5982 - loss: 0.3102 - mse_loss: 0.3582 - val_RootMeanSquaredError: 0.5747 - val_RootMeanSquaredError_1: 0.6205 - val_loss: 0.3357 - val_mse_loss: 0.3850\n",
      "Epoch 2/10\n",
      "\u001b[1m363/363\u001b[0m \u001b[32m━━━━━━━━━━━━━━━━━━━━\u001b[0m\u001b[37m\u001b[0m \u001b[1m0s\u001b[0m 429us/step - RootMeanSquaredError: 0.5356 - RootMeanSquaredError_1: 0.5814 - loss: 0.2921 - mse_loss: 0.3382 - val_RootMeanSquaredError: 0.5887 - val_RootMeanSquaredError_1: 0.6324 - val_loss: 0.3520 - val_mse_loss: 0.3999\n",
      "Epoch 3/10\n",
      "\u001b[1m363/363\u001b[0m \u001b[32m━━━━━━━━━━━━━━━━━━━━\u001b[0m\u001b[37m\u001b[0m \u001b[1m0s\u001b[0m 425us/step - RootMeanSquaredError: 0.5500 - RootMeanSquaredError_1: 0.5906 - loss: 0.3074 - mse_loss: 0.3493 - val_RootMeanSquaredError: 1.0780 - val_RootMeanSquaredError_1: 1.1575 - val_loss: 1.1798 - val_mse_loss: 1.3393\n",
      "Epoch 4/10\n",
      "\u001b[1m363/363\u001b[0m \u001b[32m━━━━━━━━━━━━━━━━━━━━\u001b[0m\u001b[37m\u001b[0m \u001b[1m0s\u001b[0m 430us/step - RootMeanSquaredError: 0.5305 - RootMeanSquaredError_1: 0.5763 - loss: 0.2868 - mse_loss: 0.3323 - val_RootMeanSquaredError: 0.5948 - val_RootMeanSquaredError_1: 0.6396 - val_loss: 0.3593 - val_mse_loss: 0.4090\n",
      "Epoch 5/10\n",
      "\u001b[1m363/363\u001b[0m \u001b[32m━━━━━━━━━━━━━━━━━━━━\u001b[0m\u001b[37m\u001b[0m \u001b[1m0s\u001b[0m 458us/step - RootMeanSquaredError: 0.5462 - RootMeanSquaredError_1: 0.5912 - loss: 0.3038 - mse_loss: 0.3500 - val_RootMeanSquaredError: 0.5425 - val_RootMeanSquaredError_1: 0.6457 - val_loss: 0.3066 - val_mse_loss: 0.4168\n",
      "Epoch 6/10\n",
      "\u001b[1m363/363\u001b[0m \u001b[32m━━━━━━━━━━━━━━━━━━━━\u001b[0m\u001b[37m\u001b[0m \u001b[1m0s\u001b[0m 430us/step - RootMeanSquaredError: 0.5535 - RootMeanSquaredError_1: 0.5914 - loss: 0.3109 - mse_loss: 0.3500 - val_RootMeanSquaredError: 0.5726 - val_RootMeanSquaredError_1: 0.6804 - val_loss: 0.3414 - val_mse_loss: 0.4629\n",
      "Epoch 7/10\n",
      "\u001b[1m363/363\u001b[0m \u001b[32m━━━━━━━━━━━━━━━━━━━━\u001b[0m\u001b[37m\u001b[0m \u001b[1m0s\u001b[0m 429us/step - RootMeanSquaredError: 0.5478 - RootMeanSquaredError_1: 0.5871 - loss: 0.3050 - mse_loss: 0.3452 - val_RootMeanSquaredError: 0.5681 - val_RootMeanSquaredError_1: 0.6846 - val_loss: 0.3373 - val_mse_loss: 0.4686\n",
      "Epoch 8/10\n",
      "\u001b[1m363/363\u001b[0m \u001b[32m━━━━━━━━━━━━━━━━━━━━\u001b[0m\u001b[37m\u001b[0m \u001b[1m0s\u001b[0m 443us/step - RootMeanSquaredError: 0.5357 - RootMeanSquaredError_1: 0.5805 - loss: 0.2921 - mse_loss: 0.3370 - val_RootMeanSquaredError: 0.5335 - val_RootMeanSquaredError_1: 0.5736 - val_loss: 0.2891 - val_mse_loss: 0.3290\n",
      "Epoch 9/10\n",
      "\u001b[1m363/363\u001b[0m \u001b[32m━━━━━━━━━━━━━━━━━━━━\u001b[0m\u001b[37m\u001b[0m \u001b[1m0s\u001b[0m 428us/step - RootMeanSquaredError: 0.5534 - RootMeanSquaredError_1: 0.5868 - loss: 0.3103 - mse_loss: 0.3444 - val_RootMeanSquaredError: 0.8548 - val_RootMeanSquaredError_1: 1.1277 - val_loss: 0.7847 - val_mse_loss: 1.2712\n",
      "Epoch 10/10\n",
      "\u001b[1m363/363\u001b[0m \u001b[32m━━━━━━━━━━━━━━━━━━━━\u001b[0m\u001b[37m\u001b[0m \u001b[1m0s\u001b[0m 433us/step - RootMeanSquaredError: 0.5343 - RootMeanSquaredError_1: 0.5766 - loss: 0.2902 - mse_loss: 0.3325 - val_RootMeanSquaredError: 0.5391 - val_RootMeanSquaredError_1: 0.5969 - val_loss: 0.2972 - val_mse_loss: 0.3563\n"
     ]
    }
   ],
   "source": [
    "# using callbacks\n",
    "# checkpoint is call back\n",
    "checkpoint_cb = tf.keras.callbacks.ModelCheckpoint('my_checkpoints.weights.h5', save_weights_only=True, save_best_only=True)\n",
    "early_stopping = tf.keras.callbacks.EarlyStopping(patience=10, restore_best_weights=True)\n",
    "\n",
    "history = model.fit((X_train_wide, X_train_deep), (y_train, y_train), \n",
    "                    epochs=10, \n",
    "                    validation_data= ((X_valid_wide, X_valid_deep), (y_valid, y_valid)), \n",
    "                    callbacks=[checkpoint_cb, early_stopping])"
   ]
  },
  {
   "cell_type": "code",
   "execution_count": 6,
   "metadata": {},
   "outputs": [],
   "source": [
    "class PrintValTrainRatioCallback(tf.keras.callbacks.Callback):\n",
    "    def on_epoch_end(self, epoch, logs):\n",
    "        ratio = logs['val_loss'] / logs['loss']\n",
    "        print(f\"Epoch={epoch}, val/train={ratio:.2f}\")"
   ]
  },
  {
   "cell_type": "code",
   "execution_count": 7,
   "metadata": {},
   "outputs": [],
   "source": [
    "def get_run_logdir(root_logdir='my_logs'):\n",
    "    return Path(root_logdir) / strftime('run_%Y_%m_%d_%H_%M_%S')\n",
    "\n",
    "run_logdir = get_run_logdir()"
   ]
  },
  {
   "cell_type": "code",
   "execution_count": 8,
   "metadata": {},
   "outputs": [
    {
     "name": "stdout",
     "output_type": "stream",
     "text": [
      "Epoch 1/10\n",
      "\u001b[1m119/363\u001b[0m \u001b[32m━━━━━━\u001b[0m\u001b[37m━━━━━━━━━━━━━━\u001b[0m \u001b[1m0s\u001b[0m 426us/step - RootMeanSquaredError: 0.5371 - RootMeanSquaredError_1: 0.5646 - loss: 0.2917 - mse_loss: 0.3190"
     ]
    },
    {
     "name": "stderr",
     "output_type": "stream",
     "text": [
      "2025-01-11 23:27:07.267625: I external/local_tsl/tsl/profiler/lib/profiler_session.cc:103] Profiler session initializing.\n",
      "2025-01-11 23:27:07.267652: I external/local_tsl/tsl/profiler/lib/profiler_session.cc:118] Profiler session started.\n",
      "2025-01-11 23:27:07.268300: I external/local_tsl/tsl/profiler/lib/profiler_session.cc:130] Profiler session tear down.\n",
      "2025-01-11 23:27:07.424572: I external/local_tsl/tsl/profiler/lib/profiler_session.cc:103] Profiler session initializing.\n",
      "2025-01-11 23:27:07.424585: I external/local_tsl/tsl/profiler/lib/profiler_session.cc:118] Profiler session started.\n"
     ]
    },
    {
     "name": "stdout",
     "output_type": "stream",
     "text": [
      "\u001b[1m363/363\u001b[0m \u001b[32m━━━━━━━━━━━━━━━━━━━━\u001b[0m\u001b[37m\u001b[0m \u001b[1m0s\u001b[0m 631us/step - RootMeanSquaredError: 0.5381 - RootMeanSquaredError_1: 0.5730 - loss: 0.2935 - mse_loss: 0.3284 - val_RootMeanSquaredError: 0.6152 - val_RootMeanSquaredError_1: 0.7756 - val_loss: 0.4008 - val_mse_loss: 0.6013\n",
      "Epoch 2/10\n",
      "\u001b[1m128/363\u001b[0m \u001b[32m━━━━━━━\u001b[0m\u001b[37m━━━━━━━━━━━━━\u001b[0m \u001b[1m0s\u001b[0m 397us/step - RootMeanSquaredError: 0.5231 - RootMeanSquaredError_1: 0.5644 - loss: 0.2783 - mse_loss: 0.3188"
     ]
    },
    {
     "name": "stderr",
     "output_type": "stream",
     "text": [
      "2025-01-11 23:27:07.471219: I external/local_tsl/tsl/profiler/lib/profiler_session.cc:68] Profiler session collecting data.\n",
      "2025-01-11 23:27:07.482600: I external/local_tsl/tsl/profiler/lib/profiler_session.cc:130] Profiler session tear down.\n",
      "2025-01-11 23:27:07.484960: I external/local_xla/xla/tsl/profiler/rpc/client/save_profile.cc:147] Collecting XSpace to repository: my_logs/run_2025_01_11_23_27_06/train/plugins/profile/2025_01_11_23_27_07/Chirags-Mac-mini.local.xplane.pb\n"
     ]
    },
    {
     "name": "stdout",
     "output_type": "stream",
     "text": [
      "\u001b[1m363/363\u001b[0m \u001b[32m━━━━━━━━━━━━━━━━━━━━\u001b[0m\u001b[37m\u001b[0m \u001b[1m0s\u001b[0m 529us/step - RootMeanSquaredError: 0.5412 - RootMeanSquaredError_1: 0.5833 - loss: 0.2979 - mse_loss: 0.3406 - val_RootMeanSquaredError: 0.5450 - val_RootMeanSquaredError_1: 0.6531 - val_loss: 0.3100 - val_mse_loss: 0.4265\n",
      "Epoch 3/10\n",
      "\u001b[1m363/363\u001b[0m \u001b[32m━━━━━━━━━━━━━━━━━━━━\u001b[0m\u001b[37m\u001b[0m \u001b[1m0s\u001b[0m 529us/step - RootMeanSquaredError: 0.5393 - RootMeanSquaredError_1: 0.5826 - loss: 0.2958 - mse_loss: 0.3395 - val_RootMeanSquaredError: 0.5317 - val_RootMeanSquaredError_1: 0.6152 - val_loss: 0.2923 - val_mse_loss: 0.3784\n",
      "Epoch 4/10\n",
      "\u001b[1m363/363\u001b[0m \u001b[32m━━━━━━━━━━━━━━━━━━━━\u001b[0m\u001b[37m\u001b[0m \u001b[1m0s\u001b[0m 528us/step - RootMeanSquaredError: 0.5356 - RootMeanSquaredError_1: 0.5750 - loss: 0.2914 - mse_loss: 0.3308 - val_RootMeanSquaredError: 0.5456 - val_RootMeanSquaredError_1: 0.6486 - val_loss: 0.3100 - val_mse_loss: 0.4206\n",
      "Epoch 5/10\n",
      "\u001b[1m363/363\u001b[0m \u001b[32m━━━━━━━━━━━━━━━━━━━━\u001b[0m\u001b[37m\u001b[0m \u001b[1m0s\u001b[0m 534us/step - RootMeanSquaredError: 0.5330 - RootMeanSquaredError_1: 0.5749 - loss: 0.2890 - mse_loss: 0.3307 - val_RootMeanSquaredError: 0.5425 - val_RootMeanSquaredError_1: 0.6242 - val_loss: 0.3038 - val_mse_loss: 0.3895\n",
      "Epoch 6/10\n",
      "\u001b[1m363/363\u001b[0m \u001b[32m━━━━━━━━━━━━━━━━━━━━\u001b[0m\u001b[37m\u001b[0m \u001b[1m0s\u001b[0m 535us/step - RootMeanSquaredError: 0.5439 - RootMeanSquaredError_1: 0.5839 - loss: 0.3004 - mse_loss: 0.3411 - val_RootMeanSquaredError: 0.6141 - val_RootMeanSquaredError_1: 0.6821 - val_loss: 0.3859 - val_mse_loss: 0.4651\n",
      "Epoch 7/10\n",
      "\u001b[1m363/363\u001b[0m \u001b[32m━━━━━━━━━━━━━━━━━━━━\u001b[0m\u001b[37m\u001b[0m \u001b[1m0s\u001b[0m 533us/step - RootMeanSquaredError: 0.5358 - RootMeanSquaredError_1: 0.5837 - loss: 0.2925 - mse_loss: 0.3408 - val_RootMeanSquaredError: 0.5921 - val_RootMeanSquaredError_1: 0.6550 - val_loss: 0.3584 - val_mse_loss: 0.4289\n",
      "Epoch 8/10\n",
      "\u001b[1m363/363\u001b[0m \u001b[32m━━━━━━━━━━━━━━━━━━━━\u001b[0m\u001b[37m\u001b[0m \u001b[1m0s\u001b[0m 530us/step - RootMeanSquaredError: 0.5308 - RootMeanSquaredError_1: 0.5690 - loss: 0.2860 - mse_loss: 0.3239 - val_RootMeanSquaredError: 0.5553 - val_RootMeanSquaredError_1: 0.5945 - val_loss: 0.3129 - val_mse_loss: 0.3534\n",
      "Epoch 9/10\n",
      "\u001b[1m363/363\u001b[0m \u001b[32m━━━━━━━━━━━━━━━━━━━━\u001b[0m\u001b[37m\u001b[0m \u001b[1m0s\u001b[0m 582us/step - RootMeanSquaredError: 0.5387 - RootMeanSquaredError_1: 0.5791 - loss: 0.2949 - mse_loss: 0.3355 - val_RootMeanSquaredError: 0.5738 - val_RootMeanSquaredError_1: 0.6569 - val_loss: 0.3394 - val_mse_loss: 0.4315\n",
      "Epoch 10/10\n",
      "\u001b[1m363/363\u001b[0m \u001b[32m━━━━━━━━━━━━━━━━━━━━\u001b[0m\u001b[37m\u001b[0m \u001b[1m0s\u001b[0m 539us/step - RootMeanSquaredError: 0.5335 - RootMeanSquaredError_1: 0.5763 - loss: 0.2894 - mse_loss: 0.3322 - val_RootMeanSquaredError: 0.5512 - val_RootMeanSquaredError_1: 0.6013 - val_loss: 0.3096 - val_mse_loss: 0.3615\n"
     ]
    }
   ],
   "source": [
    "tensorboard_cb = tf.keras.callbacks.TensorBoard(run_logdir, profile_batch=(100, 200))\n",
    "history = model.fit((X_train_wide, X_train_deep), (y_train,y_train),\n",
    "                    epochs = 10,\n",
    "                    validation_data = ((X_valid_wide, X_valid_deep),\n",
    "                                       (y_valid, y_valid)),\n",
    "                    callbacks = [tensorboard_cb])"
   ]
  },
  {
   "cell_type": "code",
   "execution_count": 26,
   "metadata": {},
   "outputs": [
    {
     "name": "stdout",
     "output_type": "stream",
     "text": [
      "The tensorboard extension is already loaded. To reload it, use:\n",
      "  %reload_ext tensorboard\n"
     ]
    },
    {
     "data": {
      "text/plain": [
       "Reusing TensorBoard on port 6006 (pid 2965), started 0:00:34 ago. (Use '!kill 2965' to kill it.)"
      ]
     },
     "metadata": {},
     "output_type": "display_data"
    },
    {
     "data": {
      "text/html": [
       "\n",
       "      <iframe id=\"tensorboard-frame-3fbe145289e4cb7b\" width=\"100%\" height=\"800\" frameborder=\"0\">\n",
       "      </iframe>\n",
       "      <script>\n",
       "        (function() {\n",
       "          const frame = document.getElementById(\"tensorboard-frame-3fbe145289e4cb7b\");\n",
       "          const url = new URL(\"http://localhost\");\n",
       "          const port = 6006;\n",
       "          if (port) {\n",
       "            url.port = port;\n",
       "          }\n",
       "          frame.src = url;\n",
       "        })();\n",
       "      </script>\n",
       "    "
      ],
      "text/plain": [
       "<IPython.core.display.HTML object>"
      ]
     },
     "metadata": {},
     "output_type": "display_data"
    }
   ],
   "source": [
    "# loading tesorboard\n",
    "%load_ext tensorboard\n",
    "%tensorboard --logdir=./my_logs"
   ]
  },
  {
   "cell_type": "code",
   "execution_count": 10,
   "metadata": {},
   "outputs": [],
   "source": [
    "# summary writer\n",
    "\n",
    "test_logdir = get_run_logdir()\n",
    "writer = tf.summary.create_file_writer(str(test_logdir))\n",
    "with writer.as_default():\n",
    "    for step in range(1, 1000 + 1):\n",
    "        tf.summary.scalar('my_scalar', np.sin(step / 10), step = step)\n",
    "        \n",
    "        data = (np.random.randn(100) + 2) * step / 100\n",
    "        tf.summary.histogram('my_hist', data, buckets=50, step = step)\n",
    "        \n",
    "        images = np.random.rand(2,32,32,3) * step / 1000\n",
    "        tf.summary.image('my_images', images, step=step)\n",
    "        \n",
    "        texts = ('the step is ' + str(step), 'its squaare is ' + str(step**2))\n",
    "        tf.summary.text('my_text', texts, step=step)\n",
    "        \n",
    "        sine_wave = tf.math.sin(tf.range(12000) / 48000 * 2 * np.pi * step)\n",
    "        audio = tf.reshape(tf.cast(sine_wave, tf.float32), [1, -1, 1])\n",
    "        tf.summary.audio('my_audio', audio, sample_rate=48000, step = step)"
   ]
  },
  {
   "cell_type": "code",
   "execution_count": null,
   "metadata": {},
   "outputs": [],
   "source": []
  }
 ],
 "metadata": {
  "kernelspec": {
   "display_name": ".venv",
   "language": "python",
   "name": "python3"
  },
  "language_info": {
   "codemirror_mode": {
    "name": "ipython",
    "version": 3
   },
   "file_extension": ".py",
   "mimetype": "text/x-python",
   "name": "python",
   "nbconvert_exporter": "python",
   "pygments_lexer": "ipython3",
   "version": "3.12.8"
  }
 },
 "nbformat": 4,
 "nbformat_minor": 2
}
